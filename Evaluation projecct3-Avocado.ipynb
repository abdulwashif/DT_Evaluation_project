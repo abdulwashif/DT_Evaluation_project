{
 "cells": [
  {
   "cell_type": "markdown",
   "id": "70444975",
   "metadata": {},
   "source": [
    "# Avacado Project"
   ]
  },
  {
   "cell_type": "markdown",
   "id": "44fbef02",
   "metadata": {},
   "source": [
    "Problem Statement:\n",
    "Avocado is a fruit consumed by people heavily in the United States. \n",
    "\n",
    "Content\n",
    "This data was downloaded from the Hass Avocado Board website in May of 2018 & compiled into a single CSV. \n",
    "\n",
    "The table below represents weekly 2018 retail scan data for National retail volume (units) and price. Retail scan data comes directly from retailers’ cash registers based on actual retail sales of Hass avocados. \n",
    "\n",
    "Starting in 2013, the table below reflects an expanded, multi-outlet retail data set. Multi-outlet reporting includes an aggregation of the following channels: grocery, mass, club, drug, dollar and military. The Average Price (of avocados) in the table reflects a per unit (per avocado) cost, even when multiple units (avocados) are sold in bags. \n",
    "\n",
    "The Product Lookup codes (PLU’s) in the table are only for Hass avocados. Other varieties of avocados (e.g. greenskins) are not included in this table.\n",
    "\n",
    "Some relevant columns in the dataset:\n",
    "\n",
    "Date - The date of the observation\n",
    "AveragePrice - the average price of a single avocado\n",
    "type - conventional or organic\n",
    "year - the year\n",
    "Region - the city or region of the observation\n",
    "Total Volume - Total number of avocados sold\n",
    "4046 - Total number of avocados with PLU 4046 sold\n",
    "4225 - Total number of avocados with PLU 4225 sold\n",
    "4770 - Total number of avocados with PLU 4770 sold\n"
   ]
  },
  {
   "cell_type": "code",
   "execution_count": 61,
   "id": "5a9662fa",
   "metadata": {},
   "outputs": [],
   "source": [
    "import pandas as pd\n",
    "import numpy as np\n",
    "import seaborn as sns\n",
    "import matplotlib.pyplot as plt\n",
    "from sklearn.model_selection import train_test_split\n",
    "from sklearn.metrics import mean_squared_error,mean_absolute_error,r2_score\n",
    "from sklearn.linear_model import LinearRegression\n",
    "from sklearn.svm import SVR\n",
    "from sklearn.tree import DecisionTreeRegressor\n",
    "from sklearn.ensemble import RandomForestRegressor\n",
    "from sklearn.neighbors import KNeighborsRegressor\n",
    "from sklearn.ensemble import AdaBoostRegressor\n",
    "from sklearn.linear_model import Lasso,Ridge,ElasticNet\n",
    "from sklearn.model_selection import cross_val_score\n",
    "from sklearn.model_selection import KFold\n",
    "import warnings\n",
    "warnings.filterwarnings('ignore')"
   ]
  },
  {
   "cell_type": "code",
   "execution_count": 62,
   "id": "c22c5731",
   "metadata": {},
   "outputs": [
    {
     "name": "stdout",
     "output_type": "stream",
     "text": [
      "Total Number of samples: 18249\n"
     ]
    },
    {
     "data": {
      "text/html": [
       "<div>\n",
       "<style scoped>\n",
       "    .dataframe tbody tr th:only-of-type {\n",
       "        vertical-align: middle;\n",
       "    }\n",
       "\n",
       "    .dataframe tbody tr th {\n",
       "        vertical-align: top;\n",
       "    }\n",
       "\n",
       "    .dataframe thead th {\n",
       "        text-align: right;\n",
       "    }\n",
       "</style>\n",
       "<table border=\"1\" class=\"dataframe\">\n",
       "  <thead>\n",
       "    <tr style=\"text-align: right;\">\n",
       "      <th></th>\n",
       "      <th>Unnamed: 0</th>\n",
       "      <th>Date</th>\n",
       "      <th>AveragePrice</th>\n",
       "      <th>Total Volume</th>\n",
       "      <th>4046</th>\n",
       "      <th>4225</th>\n",
       "      <th>4770</th>\n",
       "      <th>Total Bags</th>\n",
       "      <th>Small Bags</th>\n",
       "      <th>Large Bags</th>\n",
       "      <th>XLarge Bags</th>\n",
       "      <th>type</th>\n",
       "      <th>year</th>\n",
       "      <th>region</th>\n",
       "    </tr>\n",
       "  </thead>\n",
       "  <tbody>\n",
       "    <tr>\n",
       "      <th>0</th>\n",
       "      <td>0</td>\n",
       "      <td>2015-12-27</td>\n",
       "      <td>1.33</td>\n",
       "      <td>64236.62</td>\n",
       "      <td>1036.74</td>\n",
       "      <td>54454.85</td>\n",
       "      <td>48.16</td>\n",
       "      <td>8696.87</td>\n",
       "      <td>8603.62</td>\n",
       "      <td>93.25</td>\n",
       "      <td>0.0</td>\n",
       "      <td>conventional</td>\n",
       "      <td>2015</td>\n",
       "      <td>Albany</td>\n",
       "    </tr>\n",
       "    <tr>\n",
       "      <th>1</th>\n",
       "      <td>1</td>\n",
       "      <td>2015-12-20</td>\n",
       "      <td>1.35</td>\n",
       "      <td>54876.98</td>\n",
       "      <td>674.28</td>\n",
       "      <td>44638.81</td>\n",
       "      <td>58.33</td>\n",
       "      <td>9505.56</td>\n",
       "      <td>9408.07</td>\n",
       "      <td>97.49</td>\n",
       "      <td>0.0</td>\n",
       "      <td>conventional</td>\n",
       "      <td>2015</td>\n",
       "      <td>Albany</td>\n",
       "    </tr>\n",
       "    <tr>\n",
       "      <th>2</th>\n",
       "      <td>2</td>\n",
       "      <td>2015-12-13</td>\n",
       "      <td>0.93</td>\n",
       "      <td>118220.22</td>\n",
       "      <td>794.70</td>\n",
       "      <td>109149.67</td>\n",
       "      <td>130.50</td>\n",
       "      <td>8145.35</td>\n",
       "      <td>8042.21</td>\n",
       "      <td>103.14</td>\n",
       "      <td>0.0</td>\n",
       "      <td>conventional</td>\n",
       "      <td>2015</td>\n",
       "      <td>Albany</td>\n",
       "    </tr>\n",
       "    <tr>\n",
       "      <th>3</th>\n",
       "      <td>3</td>\n",
       "      <td>2015-12-06</td>\n",
       "      <td>1.08</td>\n",
       "      <td>78992.15</td>\n",
       "      <td>1132.00</td>\n",
       "      <td>71976.41</td>\n",
       "      <td>72.58</td>\n",
       "      <td>5811.16</td>\n",
       "      <td>5677.40</td>\n",
       "      <td>133.76</td>\n",
       "      <td>0.0</td>\n",
       "      <td>conventional</td>\n",
       "      <td>2015</td>\n",
       "      <td>Albany</td>\n",
       "    </tr>\n",
       "    <tr>\n",
       "      <th>4</th>\n",
       "      <td>4</td>\n",
       "      <td>2015-11-29</td>\n",
       "      <td>1.28</td>\n",
       "      <td>51039.60</td>\n",
       "      <td>941.48</td>\n",
       "      <td>43838.39</td>\n",
       "      <td>75.78</td>\n",
       "      <td>6183.95</td>\n",
       "      <td>5986.26</td>\n",
       "      <td>197.69</td>\n",
       "      <td>0.0</td>\n",
       "      <td>conventional</td>\n",
       "      <td>2015</td>\n",
       "      <td>Albany</td>\n",
       "    </tr>\n",
       "  </tbody>\n",
       "</table>\n",
       "</div>"
      ],
      "text/plain": [
       "   Unnamed: 0        Date  AveragePrice  Total Volume     4046       4225  \\\n",
       "0           0  2015-12-27          1.33      64236.62  1036.74   54454.85   \n",
       "1           1  2015-12-20          1.35      54876.98   674.28   44638.81   \n",
       "2           2  2015-12-13          0.93     118220.22   794.70  109149.67   \n",
       "3           3  2015-12-06          1.08      78992.15  1132.00   71976.41   \n",
       "4           4  2015-11-29          1.28      51039.60   941.48   43838.39   \n",
       "\n",
       "     4770  Total Bags  Small Bags  Large Bags  XLarge Bags          type  \\\n",
       "0   48.16     8696.87     8603.62       93.25          0.0  conventional   \n",
       "1   58.33     9505.56     9408.07       97.49          0.0  conventional   \n",
       "2  130.50     8145.35     8042.21      103.14          0.0  conventional   \n",
       "3   72.58     5811.16     5677.40      133.76          0.0  conventional   \n",
       "4   75.78     6183.95     5986.26      197.69          0.0  conventional   \n",
       "\n",
       "   year  region  \n",
       "0  2015  Albany  \n",
       "1  2015  Albany  \n",
       "2  2015  Albany  \n",
       "3  2015  Albany  \n",
       "4  2015  Albany  "
      ]
     },
     "execution_count": 62,
     "metadata": {},
     "output_type": "execute_result"
    }
   ],
   "source": [
    "# Read the dataset\n",
    "df = pd.read_csv('D:\\DATA SC_Practice Project\\\\eva\\\\Avocado.csv')\n",
    "print(\"Total Number of samples: %d\" % len(data))\n",
    "df.head(5)"
   ]
  },
  {
   "cell_type": "markdown",
   "id": "9334f81b",
   "metadata": {},
   "source": [
    "- There are 16468 rows and 14 columns\n",
    "- There is an Unnamed: 0 column which we will have to remove\n",
    "- 4046, 4225 and 4770 are Product look up code as per the description given. We will then rename them as PL1, PL2 and PL3"
   ]
  },
  {
   "cell_type": "code",
   "execution_count": 63,
   "id": "fd0aff4a",
   "metadata": {},
   "outputs": [],
   "source": [
    "df['PL1']=df['4046']\n",
    "df['PL2']=df['4225']\n",
    "df['PL3']=df['4770']"
   ]
  },
  {
   "cell_type": "code",
   "execution_count": 64,
   "id": "09a453ce",
   "metadata": {},
   "outputs": [
    {
     "data": {
      "text/html": [
       "<div>\n",
       "<style scoped>\n",
       "    .dataframe tbody tr th:only-of-type {\n",
       "        vertical-align: middle;\n",
       "    }\n",
       "\n",
       "    .dataframe tbody tr th {\n",
       "        vertical-align: top;\n",
       "    }\n",
       "\n",
       "    .dataframe thead th {\n",
       "        text-align: right;\n",
       "    }\n",
       "</style>\n",
       "<table border=\"1\" class=\"dataframe\">\n",
       "  <thead>\n",
       "    <tr style=\"text-align: right;\">\n",
       "      <th></th>\n",
       "      <th>Unnamed: 0</th>\n",
       "      <th>Date</th>\n",
       "      <th>AveragePrice</th>\n",
       "      <th>Total Volume</th>\n",
       "      <th>4046</th>\n",
       "      <th>4225</th>\n",
       "      <th>4770</th>\n",
       "      <th>Total Bags</th>\n",
       "      <th>Small Bags</th>\n",
       "      <th>Large Bags</th>\n",
       "      <th>XLarge Bags</th>\n",
       "      <th>type</th>\n",
       "      <th>year</th>\n",
       "      <th>region</th>\n",
       "      <th>PL1</th>\n",
       "      <th>PL2</th>\n",
       "      <th>PL3</th>\n",
       "    </tr>\n",
       "  </thead>\n",
       "  <tbody>\n",
       "    <tr>\n",
       "      <th>0</th>\n",
       "      <td>0</td>\n",
       "      <td>2015-12-27</td>\n",
       "      <td>1.33</td>\n",
       "      <td>64236.62</td>\n",
       "      <td>1036.74</td>\n",
       "      <td>54454.85</td>\n",
       "      <td>48.16</td>\n",
       "      <td>8696.87</td>\n",
       "      <td>8603.62</td>\n",
       "      <td>93.25</td>\n",
       "      <td>0.0</td>\n",
       "      <td>conventional</td>\n",
       "      <td>2015</td>\n",
       "      <td>Albany</td>\n",
       "      <td>1036.74</td>\n",
       "      <td>54454.85</td>\n",
       "      <td>48.16</td>\n",
       "    </tr>\n",
       "    <tr>\n",
       "      <th>1</th>\n",
       "      <td>1</td>\n",
       "      <td>2015-12-20</td>\n",
       "      <td>1.35</td>\n",
       "      <td>54876.98</td>\n",
       "      <td>674.28</td>\n",
       "      <td>44638.81</td>\n",
       "      <td>58.33</td>\n",
       "      <td>9505.56</td>\n",
       "      <td>9408.07</td>\n",
       "      <td>97.49</td>\n",
       "      <td>0.0</td>\n",
       "      <td>conventional</td>\n",
       "      <td>2015</td>\n",
       "      <td>Albany</td>\n",
       "      <td>674.28</td>\n",
       "      <td>44638.81</td>\n",
       "      <td>58.33</td>\n",
       "    </tr>\n",
       "    <tr>\n",
       "      <th>2</th>\n",
       "      <td>2</td>\n",
       "      <td>2015-12-13</td>\n",
       "      <td>0.93</td>\n",
       "      <td>118220.22</td>\n",
       "      <td>794.70</td>\n",
       "      <td>109149.67</td>\n",
       "      <td>130.50</td>\n",
       "      <td>8145.35</td>\n",
       "      <td>8042.21</td>\n",
       "      <td>103.14</td>\n",
       "      <td>0.0</td>\n",
       "      <td>conventional</td>\n",
       "      <td>2015</td>\n",
       "      <td>Albany</td>\n",
       "      <td>794.70</td>\n",
       "      <td>109149.67</td>\n",
       "      <td>130.50</td>\n",
       "    </tr>\n",
       "    <tr>\n",
       "      <th>3</th>\n",
       "      <td>3</td>\n",
       "      <td>2015-12-06</td>\n",
       "      <td>1.08</td>\n",
       "      <td>78992.15</td>\n",
       "      <td>1132.00</td>\n",
       "      <td>71976.41</td>\n",
       "      <td>72.58</td>\n",
       "      <td>5811.16</td>\n",
       "      <td>5677.40</td>\n",
       "      <td>133.76</td>\n",
       "      <td>0.0</td>\n",
       "      <td>conventional</td>\n",
       "      <td>2015</td>\n",
       "      <td>Albany</td>\n",
       "      <td>1132.00</td>\n",
       "      <td>71976.41</td>\n",
       "      <td>72.58</td>\n",
       "    </tr>\n",
       "    <tr>\n",
       "      <th>4</th>\n",
       "      <td>4</td>\n",
       "      <td>2015-11-29</td>\n",
       "      <td>1.28</td>\n",
       "      <td>51039.60</td>\n",
       "      <td>941.48</td>\n",
       "      <td>43838.39</td>\n",
       "      <td>75.78</td>\n",
       "      <td>6183.95</td>\n",
       "      <td>5986.26</td>\n",
       "      <td>197.69</td>\n",
       "      <td>0.0</td>\n",
       "      <td>conventional</td>\n",
       "      <td>2015</td>\n",
       "      <td>Albany</td>\n",
       "      <td>941.48</td>\n",
       "      <td>43838.39</td>\n",
       "      <td>75.78</td>\n",
       "    </tr>\n",
       "    <tr>\n",
       "      <th>...</th>\n",
       "      <td>...</td>\n",
       "      <td>...</td>\n",
       "      <td>...</td>\n",
       "      <td>...</td>\n",
       "      <td>...</td>\n",
       "      <td>...</td>\n",
       "      <td>...</td>\n",
       "      <td>...</td>\n",
       "      <td>...</td>\n",
       "      <td>...</td>\n",
       "      <td>...</td>\n",
       "      <td>...</td>\n",
       "      <td>...</td>\n",
       "      <td>...</td>\n",
       "      <td>...</td>\n",
       "      <td>...</td>\n",
       "      <td>...</td>\n",
       "    </tr>\n",
       "    <tr>\n",
       "      <th>18244</th>\n",
       "      <td>7</td>\n",
       "      <td>2018-02-04</td>\n",
       "      <td>1.63</td>\n",
       "      <td>17074.83</td>\n",
       "      <td>2046.96</td>\n",
       "      <td>1529.20</td>\n",
       "      <td>0.00</td>\n",
       "      <td>13498.67</td>\n",
       "      <td>13066.82</td>\n",
       "      <td>431.85</td>\n",
       "      <td>0.0</td>\n",
       "      <td>organic</td>\n",
       "      <td>2018</td>\n",
       "      <td>WestTexNewMexico</td>\n",
       "      <td>2046.96</td>\n",
       "      <td>1529.20</td>\n",
       "      <td>0.00</td>\n",
       "    </tr>\n",
       "    <tr>\n",
       "      <th>18245</th>\n",
       "      <td>8</td>\n",
       "      <td>2018-01-28</td>\n",
       "      <td>1.71</td>\n",
       "      <td>13888.04</td>\n",
       "      <td>1191.70</td>\n",
       "      <td>3431.50</td>\n",
       "      <td>0.00</td>\n",
       "      <td>9264.84</td>\n",
       "      <td>8940.04</td>\n",
       "      <td>324.80</td>\n",
       "      <td>0.0</td>\n",
       "      <td>organic</td>\n",
       "      <td>2018</td>\n",
       "      <td>WestTexNewMexico</td>\n",
       "      <td>1191.70</td>\n",
       "      <td>3431.50</td>\n",
       "      <td>0.00</td>\n",
       "    </tr>\n",
       "    <tr>\n",
       "      <th>18246</th>\n",
       "      <td>9</td>\n",
       "      <td>2018-01-21</td>\n",
       "      <td>1.87</td>\n",
       "      <td>13766.76</td>\n",
       "      <td>1191.92</td>\n",
       "      <td>2452.79</td>\n",
       "      <td>727.94</td>\n",
       "      <td>9394.11</td>\n",
       "      <td>9351.80</td>\n",
       "      <td>42.31</td>\n",
       "      <td>0.0</td>\n",
       "      <td>organic</td>\n",
       "      <td>2018</td>\n",
       "      <td>WestTexNewMexico</td>\n",
       "      <td>1191.92</td>\n",
       "      <td>2452.79</td>\n",
       "      <td>727.94</td>\n",
       "    </tr>\n",
       "    <tr>\n",
       "      <th>18247</th>\n",
       "      <td>10</td>\n",
       "      <td>2018-01-14</td>\n",
       "      <td>1.93</td>\n",
       "      <td>16205.22</td>\n",
       "      <td>1527.63</td>\n",
       "      <td>2981.04</td>\n",
       "      <td>727.01</td>\n",
       "      <td>10969.54</td>\n",
       "      <td>10919.54</td>\n",
       "      <td>50.00</td>\n",
       "      <td>0.0</td>\n",
       "      <td>organic</td>\n",
       "      <td>2018</td>\n",
       "      <td>WestTexNewMexico</td>\n",
       "      <td>1527.63</td>\n",
       "      <td>2981.04</td>\n",
       "      <td>727.01</td>\n",
       "    </tr>\n",
       "    <tr>\n",
       "      <th>18248</th>\n",
       "      <td>11</td>\n",
       "      <td>2018-01-07</td>\n",
       "      <td>1.62</td>\n",
       "      <td>17489.58</td>\n",
       "      <td>2894.77</td>\n",
       "      <td>2356.13</td>\n",
       "      <td>224.53</td>\n",
       "      <td>12014.15</td>\n",
       "      <td>11988.14</td>\n",
       "      <td>26.01</td>\n",
       "      <td>0.0</td>\n",
       "      <td>organic</td>\n",
       "      <td>2018</td>\n",
       "      <td>WestTexNewMexico</td>\n",
       "      <td>2894.77</td>\n",
       "      <td>2356.13</td>\n",
       "      <td>224.53</td>\n",
       "    </tr>\n",
       "  </tbody>\n",
       "</table>\n",
       "<p>18249 rows × 17 columns</p>\n",
       "</div>"
      ],
      "text/plain": [
       "       Unnamed: 0        Date  AveragePrice  Total Volume     4046       4225  \\\n",
       "0               0  2015-12-27          1.33      64236.62  1036.74   54454.85   \n",
       "1               1  2015-12-20          1.35      54876.98   674.28   44638.81   \n",
       "2               2  2015-12-13          0.93     118220.22   794.70  109149.67   \n",
       "3               3  2015-12-06          1.08      78992.15  1132.00   71976.41   \n",
       "4               4  2015-11-29          1.28      51039.60   941.48   43838.39   \n",
       "...           ...         ...           ...           ...      ...        ...   \n",
       "18244           7  2018-02-04          1.63      17074.83  2046.96    1529.20   \n",
       "18245           8  2018-01-28          1.71      13888.04  1191.70    3431.50   \n",
       "18246           9  2018-01-21          1.87      13766.76  1191.92    2452.79   \n",
       "18247          10  2018-01-14          1.93      16205.22  1527.63    2981.04   \n",
       "18248          11  2018-01-07          1.62      17489.58  2894.77    2356.13   \n",
       "\n",
       "         4770  Total Bags  Small Bags  Large Bags  XLarge Bags          type  \\\n",
       "0       48.16     8696.87     8603.62       93.25          0.0  conventional   \n",
       "1       58.33     9505.56     9408.07       97.49          0.0  conventional   \n",
       "2      130.50     8145.35     8042.21      103.14          0.0  conventional   \n",
       "3       72.58     5811.16     5677.40      133.76          0.0  conventional   \n",
       "4       75.78     6183.95     5986.26      197.69          0.0  conventional   \n",
       "...       ...         ...         ...         ...          ...           ...   \n",
       "18244    0.00    13498.67    13066.82      431.85          0.0       organic   \n",
       "18245    0.00     9264.84     8940.04      324.80          0.0       organic   \n",
       "18246  727.94     9394.11     9351.80       42.31          0.0       organic   \n",
       "18247  727.01    10969.54    10919.54       50.00          0.0       organic   \n",
       "18248  224.53    12014.15    11988.14       26.01          0.0       organic   \n",
       "\n",
       "       year            region      PL1        PL2     PL3  \n",
       "0      2015            Albany  1036.74   54454.85   48.16  \n",
       "1      2015            Albany   674.28   44638.81   58.33  \n",
       "2      2015            Albany   794.70  109149.67  130.50  \n",
       "3      2015            Albany  1132.00   71976.41   72.58  \n",
       "4      2015            Albany   941.48   43838.39   75.78  \n",
       "...     ...               ...      ...        ...     ...  \n",
       "18244  2018  WestTexNewMexico  2046.96    1529.20    0.00  \n",
       "18245  2018  WestTexNewMexico  1191.70    3431.50    0.00  \n",
       "18246  2018  WestTexNewMexico  1191.92    2452.79  727.94  \n",
       "18247  2018  WestTexNewMexico  1527.63    2981.04  727.01  \n",
       "18248  2018  WestTexNewMexico  2894.77    2356.13  224.53  \n",
       "\n",
       "[18249 rows x 17 columns]"
      ]
     },
     "execution_count": 64,
     "metadata": {},
     "output_type": "execute_result"
    }
   ],
   "source": [
    "df"
   ]
  },
  {
   "cell_type": "markdown",
   "id": "a5f9a801",
   "metadata": {},
   "source": [
    "W copied the column 4046,4225,4770 as PL1,PL2,PL3"
   ]
  },
  {
   "cell_type": "code",
   "execution_count": 65,
   "id": "59329b59",
   "metadata": {},
   "outputs": [],
   "source": [
    "df.drop(['Unnamed: 0','4046','4225','4770'],axis=1,inplace=True)"
   ]
  },
  {
   "cell_type": "code",
   "execution_count": 66,
   "id": "091c4dec",
   "metadata": {},
   "outputs": [
    {
     "data": {
      "text/html": [
       "<div>\n",
       "<style scoped>\n",
       "    .dataframe tbody tr th:only-of-type {\n",
       "        vertical-align: middle;\n",
       "    }\n",
       "\n",
       "    .dataframe tbody tr th {\n",
       "        vertical-align: top;\n",
       "    }\n",
       "\n",
       "    .dataframe thead th {\n",
       "        text-align: right;\n",
       "    }\n",
       "</style>\n",
       "<table border=\"1\" class=\"dataframe\">\n",
       "  <thead>\n",
       "    <tr style=\"text-align: right;\">\n",
       "      <th></th>\n",
       "      <th>Date</th>\n",
       "      <th>AveragePrice</th>\n",
       "      <th>Total Volume</th>\n",
       "      <th>Total Bags</th>\n",
       "      <th>Small Bags</th>\n",
       "      <th>Large Bags</th>\n",
       "      <th>XLarge Bags</th>\n",
       "      <th>type</th>\n",
       "      <th>year</th>\n",
       "      <th>region</th>\n",
       "      <th>PL1</th>\n",
       "      <th>PL2</th>\n",
       "      <th>PL3</th>\n",
       "    </tr>\n",
       "  </thead>\n",
       "  <tbody>\n",
       "    <tr>\n",
       "      <th>0</th>\n",
       "      <td>2015-12-27</td>\n",
       "      <td>1.33</td>\n",
       "      <td>64236.62</td>\n",
       "      <td>8696.87</td>\n",
       "      <td>8603.62</td>\n",
       "      <td>93.25</td>\n",
       "      <td>0.0</td>\n",
       "      <td>conventional</td>\n",
       "      <td>2015</td>\n",
       "      <td>Albany</td>\n",
       "      <td>1036.74</td>\n",
       "      <td>54454.85</td>\n",
       "      <td>48.16</td>\n",
       "    </tr>\n",
       "    <tr>\n",
       "      <th>1</th>\n",
       "      <td>2015-12-20</td>\n",
       "      <td>1.35</td>\n",
       "      <td>54876.98</td>\n",
       "      <td>9505.56</td>\n",
       "      <td>9408.07</td>\n",
       "      <td>97.49</td>\n",
       "      <td>0.0</td>\n",
       "      <td>conventional</td>\n",
       "      <td>2015</td>\n",
       "      <td>Albany</td>\n",
       "      <td>674.28</td>\n",
       "      <td>44638.81</td>\n",
       "      <td>58.33</td>\n",
       "    </tr>\n",
       "    <tr>\n",
       "      <th>2</th>\n",
       "      <td>2015-12-13</td>\n",
       "      <td>0.93</td>\n",
       "      <td>118220.22</td>\n",
       "      <td>8145.35</td>\n",
       "      <td>8042.21</td>\n",
       "      <td>103.14</td>\n",
       "      <td>0.0</td>\n",
       "      <td>conventional</td>\n",
       "      <td>2015</td>\n",
       "      <td>Albany</td>\n",
       "      <td>794.70</td>\n",
       "      <td>109149.67</td>\n",
       "      <td>130.50</td>\n",
       "    </tr>\n",
       "    <tr>\n",
       "      <th>3</th>\n",
       "      <td>2015-12-06</td>\n",
       "      <td>1.08</td>\n",
       "      <td>78992.15</td>\n",
       "      <td>5811.16</td>\n",
       "      <td>5677.40</td>\n",
       "      <td>133.76</td>\n",
       "      <td>0.0</td>\n",
       "      <td>conventional</td>\n",
       "      <td>2015</td>\n",
       "      <td>Albany</td>\n",
       "      <td>1132.00</td>\n",
       "      <td>71976.41</td>\n",
       "      <td>72.58</td>\n",
       "    </tr>\n",
       "    <tr>\n",
       "      <th>4</th>\n",
       "      <td>2015-11-29</td>\n",
       "      <td>1.28</td>\n",
       "      <td>51039.60</td>\n",
       "      <td>6183.95</td>\n",
       "      <td>5986.26</td>\n",
       "      <td>197.69</td>\n",
       "      <td>0.0</td>\n",
       "      <td>conventional</td>\n",
       "      <td>2015</td>\n",
       "      <td>Albany</td>\n",
       "      <td>941.48</td>\n",
       "      <td>43838.39</td>\n",
       "      <td>75.78</td>\n",
       "    </tr>\n",
       "    <tr>\n",
       "      <th>...</th>\n",
       "      <td>...</td>\n",
       "      <td>...</td>\n",
       "      <td>...</td>\n",
       "      <td>...</td>\n",
       "      <td>...</td>\n",
       "      <td>...</td>\n",
       "      <td>...</td>\n",
       "      <td>...</td>\n",
       "      <td>...</td>\n",
       "      <td>...</td>\n",
       "      <td>...</td>\n",
       "      <td>...</td>\n",
       "      <td>...</td>\n",
       "    </tr>\n",
       "    <tr>\n",
       "      <th>18244</th>\n",
       "      <td>2018-02-04</td>\n",
       "      <td>1.63</td>\n",
       "      <td>17074.83</td>\n",
       "      <td>13498.67</td>\n",
       "      <td>13066.82</td>\n",
       "      <td>431.85</td>\n",
       "      <td>0.0</td>\n",
       "      <td>organic</td>\n",
       "      <td>2018</td>\n",
       "      <td>WestTexNewMexico</td>\n",
       "      <td>2046.96</td>\n",
       "      <td>1529.20</td>\n",
       "      <td>0.00</td>\n",
       "    </tr>\n",
       "    <tr>\n",
       "      <th>18245</th>\n",
       "      <td>2018-01-28</td>\n",
       "      <td>1.71</td>\n",
       "      <td>13888.04</td>\n",
       "      <td>9264.84</td>\n",
       "      <td>8940.04</td>\n",
       "      <td>324.80</td>\n",
       "      <td>0.0</td>\n",
       "      <td>organic</td>\n",
       "      <td>2018</td>\n",
       "      <td>WestTexNewMexico</td>\n",
       "      <td>1191.70</td>\n",
       "      <td>3431.50</td>\n",
       "      <td>0.00</td>\n",
       "    </tr>\n",
       "    <tr>\n",
       "      <th>18246</th>\n",
       "      <td>2018-01-21</td>\n",
       "      <td>1.87</td>\n",
       "      <td>13766.76</td>\n",
       "      <td>9394.11</td>\n",
       "      <td>9351.80</td>\n",
       "      <td>42.31</td>\n",
       "      <td>0.0</td>\n",
       "      <td>organic</td>\n",
       "      <td>2018</td>\n",
       "      <td>WestTexNewMexico</td>\n",
       "      <td>1191.92</td>\n",
       "      <td>2452.79</td>\n",
       "      <td>727.94</td>\n",
       "    </tr>\n",
       "    <tr>\n",
       "      <th>18247</th>\n",
       "      <td>2018-01-14</td>\n",
       "      <td>1.93</td>\n",
       "      <td>16205.22</td>\n",
       "      <td>10969.54</td>\n",
       "      <td>10919.54</td>\n",
       "      <td>50.00</td>\n",
       "      <td>0.0</td>\n",
       "      <td>organic</td>\n",
       "      <td>2018</td>\n",
       "      <td>WestTexNewMexico</td>\n",
       "      <td>1527.63</td>\n",
       "      <td>2981.04</td>\n",
       "      <td>727.01</td>\n",
       "    </tr>\n",
       "    <tr>\n",
       "      <th>18248</th>\n",
       "      <td>2018-01-07</td>\n",
       "      <td>1.62</td>\n",
       "      <td>17489.58</td>\n",
       "      <td>12014.15</td>\n",
       "      <td>11988.14</td>\n",
       "      <td>26.01</td>\n",
       "      <td>0.0</td>\n",
       "      <td>organic</td>\n",
       "      <td>2018</td>\n",
       "      <td>WestTexNewMexico</td>\n",
       "      <td>2894.77</td>\n",
       "      <td>2356.13</td>\n",
       "      <td>224.53</td>\n",
       "    </tr>\n",
       "  </tbody>\n",
       "</table>\n",
       "<p>18249 rows × 13 columns</p>\n",
       "</div>"
      ],
      "text/plain": [
       "             Date  AveragePrice  Total Volume  Total Bags  Small Bags  \\\n",
       "0      2015-12-27          1.33      64236.62     8696.87     8603.62   \n",
       "1      2015-12-20          1.35      54876.98     9505.56     9408.07   \n",
       "2      2015-12-13          0.93     118220.22     8145.35     8042.21   \n",
       "3      2015-12-06          1.08      78992.15     5811.16     5677.40   \n",
       "4      2015-11-29          1.28      51039.60     6183.95     5986.26   \n",
       "...           ...           ...           ...         ...         ...   \n",
       "18244  2018-02-04          1.63      17074.83    13498.67    13066.82   \n",
       "18245  2018-01-28          1.71      13888.04     9264.84     8940.04   \n",
       "18246  2018-01-21          1.87      13766.76     9394.11     9351.80   \n",
       "18247  2018-01-14          1.93      16205.22    10969.54    10919.54   \n",
       "18248  2018-01-07          1.62      17489.58    12014.15    11988.14   \n",
       "\n",
       "       Large Bags  XLarge Bags          type  year            region      PL1  \\\n",
       "0           93.25          0.0  conventional  2015            Albany  1036.74   \n",
       "1           97.49          0.0  conventional  2015            Albany   674.28   \n",
       "2          103.14          0.0  conventional  2015            Albany   794.70   \n",
       "3          133.76          0.0  conventional  2015            Albany  1132.00   \n",
       "4          197.69          0.0  conventional  2015            Albany   941.48   \n",
       "...           ...          ...           ...   ...               ...      ...   \n",
       "18244      431.85          0.0       organic  2018  WestTexNewMexico  2046.96   \n",
       "18245      324.80          0.0       organic  2018  WestTexNewMexico  1191.70   \n",
       "18246       42.31          0.0       organic  2018  WestTexNewMexico  1191.92   \n",
       "18247       50.00          0.0       organic  2018  WestTexNewMexico  1527.63   \n",
       "18248       26.01          0.0       organic  2018  WestTexNewMexico  2894.77   \n",
       "\n",
       "             PL2     PL3  \n",
       "0       54454.85   48.16  \n",
       "1       44638.81   58.33  \n",
       "2      109149.67  130.50  \n",
       "3       71976.41   72.58  \n",
       "4       43838.39   75.78  \n",
       "...          ...     ...  \n",
       "18244    1529.20    0.00  \n",
       "18245    3431.50    0.00  \n",
       "18246    2452.79  727.94  \n",
       "18247    2981.04  727.01  \n",
       "18248    2356.13  224.53  \n",
       "\n",
       "[18249 rows x 13 columns]"
      ]
     },
     "execution_count": 66,
     "metadata": {},
     "output_type": "execute_result"
    }
   ],
   "source": [
    "df"
   ]
  },
  {
   "cell_type": "code",
   "execution_count": 67,
   "id": "27935b2a",
   "metadata": {},
   "outputs": [
    {
     "data": {
      "text/plain": [
       "Date            0\n",
       "AveragePrice    0\n",
       "Total Volume    0\n",
       "Total Bags      0\n",
       "Small Bags      0\n",
       "Large Bags      0\n",
       "XLarge Bags     0\n",
       "type            0\n",
       "year            0\n",
       "region          0\n",
       "PL1             0\n",
       "PL2             0\n",
       "PL3             0\n",
       "dtype: int64"
      ]
     },
     "execution_count": 67,
     "metadata": {},
     "output_type": "execute_result"
    }
   ],
   "source": [
    "#Now we will check for NaN values\n",
    "df.isnull().sum()"
   ]
  },
  {
   "cell_type": "markdown",
   "id": "cdf85bcb",
   "metadata": {},
   "source": [
    "There is no null values.Lets check the shape now of our data."
   ]
  },
  {
   "cell_type": "code",
   "execution_count": 68,
   "id": "46e2765d",
   "metadata": {},
   "outputs": [
    {
     "data": {
      "text/plain": [
       "(18249, 13)"
      ]
     },
     "execution_count": 68,
     "metadata": {},
     "output_type": "execute_result"
    }
   ],
   "source": [
    "df.shape"
   ]
  },
  {
   "cell_type": "markdown",
   "id": "bcc3972d",
   "metadata": {},
   "source": [
    "we have 18249 rows and 13 columns."
   ]
  },
  {
   "cell_type": "code",
   "execution_count": 69,
   "id": "6245ec9a",
   "metadata": {},
   "outputs": [
    {
     "name": "stdout",
     "output_type": "stream",
     "text": [
      "<class 'pandas.core.frame.DataFrame'>\n",
      "RangeIndex: 18249 entries, 0 to 18248\n",
      "Data columns (total 13 columns):\n",
      " #   Column        Non-Null Count  Dtype  \n",
      "---  ------        --------------  -----  \n",
      " 0   Date          18249 non-null  object \n",
      " 1   AveragePrice  18249 non-null  float64\n",
      " 2   Total Volume  18249 non-null  float64\n",
      " 3   Total Bags    18249 non-null  float64\n",
      " 4   Small Bags    18249 non-null  float64\n",
      " 5   Large Bags    18249 non-null  float64\n",
      " 6   XLarge Bags   18249 non-null  float64\n",
      " 7   type          18249 non-null  object \n",
      " 8   year          18249 non-null  int64  \n",
      " 9   region        18249 non-null  object \n",
      " 10  PL1           18249 non-null  float64\n",
      " 11  PL2           18249 non-null  float64\n",
      " 12  PL3           18249 non-null  float64\n",
      "dtypes: float64(9), int64(1), object(3)\n",
      "memory usage: 1.8+ MB\n"
     ]
    }
   ],
   "source": [
    "df.info()"
   ]
  },
  {
   "cell_type": "code",
   "execution_count": 70,
   "id": "bf28ba0c",
   "metadata": {},
   "outputs": [
    {
     "data": {
      "text/html": [
       "<div>\n",
       "<style scoped>\n",
       "    .dataframe tbody tr th:only-of-type {\n",
       "        vertical-align: middle;\n",
       "    }\n",
       "\n",
       "    .dataframe tbody tr th {\n",
       "        vertical-align: top;\n",
       "    }\n",
       "\n",
       "    .dataframe thead th {\n",
       "        text-align: right;\n",
       "    }\n",
       "</style>\n",
       "<table border=\"1\" class=\"dataframe\">\n",
       "  <thead>\n",
       "    <tr style=\"text-align: right;\">\n",
       "      <th></th>\n",
       "      <th>AveragePrice</th>\n",
       "      <th>Total Volume</th>\n",
       "      <th>Total Bags</th>\n",
       "      <th>Small Bags</th>\n",
       "      <th>Large Bags</th>\n",
       "      <th>XLarge Bags</th>\n",
       "      <th>year</th>\n",
       "      <th>PL1</th>\n",
       "      <th>PL2</th>\n",
       "      <th>PL3</th>\n",
       "    </tr>\n",
       "  </thead>\n",
       "  <tbody>\n",
       "    <tr>\n",
       "      <th>count</th>\n",
       "      <td>18249.00000</td>\n",
       "      <td>18249.00000</td>\n",
       "      <td>18249.00000</td>\n",
       "      <td>18249.00000</td>\n",
       "      <td>18249.00000</td>\n",
       "      <td>18249.00000</td>\n",
       "      <td>18249.00000</td>\n",
       "      <td>18249.00000</td>\n",
       "      <td>18249.00000</td>\n",
       "      <td>18249.00000</td>\n",
       "    </tr>\n",
       "    <tr>\n",
       "      <th>mean</th>\n",
       "      <td>1.40598</td>\n",
       "      <td>850644.01301</td>\n",
       "      <td>239639.20206</td>\n",
       "      <td>182194.68670</td>\n",
       "      <td>54338.08814</td>\n",
       "      <td>3106.42651</td>\n",
       "      <td>2016.14790</td>\n",
       "      <td>293008.42453</td>\n",
       "      <td>295154.56836</td>\n",
       "      <td>22839.73599</td>\n",
       "    </tr>\n",
       "    <tr>\n",
       "      <th>std</th>\n",
       "      <td>0.40268</td>\n",
       "      <td>3453545.35540</td>\n",
       "      <td>986242.39922</td>\n",
       "      <td>746178.51496</td>\n",
       "      <td>243965.96455</td>\n",
       "      <td>17692.89465</td>\n",
       "      <td>0.93994</td>\n",
       "      <td>1264989.08176</td>\n",
       "      <td>1204120.40114</td>\n",
       "      <td>107464.06844</td>\n",
       "    </tr>\n",
       "    <tr>\n",
       "      <th>min</th>\n",
       "      <td>0.44000</td>\n",
       "      <td>84.56000</td>\n",
       "      <td>0.00000</td>\n",
       "      <td>0.00000</td>\n",
       "      <td>0.00000</td>\n",
       "      <td>0.00000</td>\n",
       "      <td>2015.00000</td>\n",
       "      <td>0.00000</td>\n",
       "      <td>0.00000</td>\n",
       "      <td>0.00000</td>\n",
       "    </tr>\n",
       "    <tr>\n",
       "      <th>25%</th>\n",
       "      <td>1.10000</td>\n",
       "      <td>10838.58000</td>\n",
       "      <td>5088.64000</td>\n",
       "      <td>2849.42000</td>\n",
       "      <td>127.47000</td>\n",
       "      <td>0.00000</td>\n",
       "      <td>2015.00000</td>\n",
       "      <td>854.07000</td>\n",
       "      <td>3008.78000</td>\n",
       "      <td>0.00000</td>\n",
       "    </tr>\n",
       "    <tr>\n",
       "      <th>50%</th>\n",
       "      <td>1.37000</td>\n",
       "      <td>107376.76000</td>\n",
       "      <td>39743.83000</td>\n",
       "      <td>26362.82000</td>\n",
       "      <td>2647.71000</td>\n",
       "      <td>0.00000</td>\n",
       "      <td>2016.00000</td>\n",
       "      <td>8645.30000</td>\n",
       "      <td>29061.02000</td>\n",
       "      <td>184.99000</td>\n",
       "    </tr>\n",
       "    <tr>\n",
       "      <th>75%</th>\n",
       "      <td>1.66000</td>\n",
       "      <td>432962.29000</td>\n",
       "      <td>110783.37000</td>\n",
       "      <td>83337.67000</td>\n",
       "      <td>22029.25000</td>\n",
       "      <td>132.50000</td>\n",
       "      <td>2017.00000</td>\n",
       "      <td>111020.20000</td>\n",
       "      <td>150206.86000</td>\n",
       "      <td>6243.42000</td>\n",
       "    </tr>\n",
       "    <tr>\n",
       "      <th>max</th>\n",
       "      <td>3.25000</td>\n",
       "      <td>62505646.52000</td>\n",
       "      <td>19373134.37000</td>\n",
       "      <td>13384586.80000</td>\n",
       "      <td>5719096.61000</td>\n",
       "      <td>551693.65000</td>\n",
       "      <td>2018.00000</td>\n",
       "      <td>22743616.17000</td>\n",
       "      <td>20470572.61000</td>\n",
       "      <td>2546439.11000</td>\n",
       "    </tr>\n",
       "  </tbody>\n",
       "</table>\n",
       "</div>"
      ],
      "text/plain": [
       "      AveragePrice    Total Volume      Total Bags      Small Bags  \\\n",
       "count  18249.00000     18249.00000     18249.00000     18249.00000   \n",
       "mean       1.40598    850644.01301    239639.20206    182194.68670   \n",
       "std        0.40268   3453545.35540    986242.39922    746178.51496   \n",
       "min        0.44000        84.56000         0.00000         0.00000   \n",
       "25%        1.10000     10838.58000      5088.64000      2849.42000   \n",
       "50%        1.37000    107376.76000     39743.83000     26362.82000   \n",
       "75%        1.66000    432962.29000    110783.37000     83337.67000   \n",
       "max        3.25000  62505646.52000  19373134.37000  13384586.80000   \n",
       "\n",
       "          Large Bags   XLarge Bags         year             PL1  \\\n",
       "count    18249.00000   18249.00000  18249.00000     18249.00000   \n",
       "mean     54338.08814    3106.42651   2016.14790    293008.42453   \n",
       "std     243965.96455   17692.89465      0.93994   1264989.08176   \n",
       "min          0.00000       0.00000   2015.00000         0.00000   \n",
       "25%        127.47000       0.00000   2015.00000       854.07000   \n",
       "50%       2647.71000       0.00000   2016.00000      8645.30000   \n",
       "75%      22029.25000     132.50000   2017.00000    111020.20000   \n",
       "max    5719096.61000  551693.65000   2018.00000  22743616.17000   \n",
       "\n",
       "                  PL2            PL3  \n",
       "count     18249.00000    18249.00000  \n",
       "mean     295154.56836    22839.73599  \n",
       "std     1204120.40114   107464.06844  \n",
       "min           0.00000        0.00000  \n",
       "25%        3008.78000        0.00000  \n",
       "50%       29061.02000      184.99000  \n",
       "75%      150206.86000     6243.42000  \n",
       "max    20470572.61000  2546439.11000  "
      ]
     },
     "execution_count": 70,
     "metadata": {},
     "output_type": "execute_result"
    }
   ],
   "source": [
    "df.describe().apply(lambda s: s.apply('{0:.5f}'.format))"
   ]
  },
  {
   "cell_type": "markdown",
   "id": "14bb6fb9",
   "metadata": {},
   "source": [
    "Observation:\n",
    "    - Standard deviation is very high is some of the columns and even big difference in 75 percentile and Max, indicating the presence of outliers.\n",
    "    - Min of 0 in XLarge bags, we will have to check it and if require rectify it."
   ]
  },
  {
   "cell_type": "code",
   "execution_count": 71,
   "id": "5f31e4f6",
   "metadata": {},
   "outputs": [
    {
     "data": {
      "text/plain": [
       "conventional    9126\n",
       "organic         9123\n",
       "Name: type, dtype: int64"
      ]
     },
     "execution_count": 71,
     "metadata": {},
     "output_type": "execute_result"
    }
   ],
   "source": [
    "df['type'].value_counts()"
   ]
  },
  {
   "cell_type": "code",
   "execution_count": 72,
   "id": "a465f48b",
   "metadata": {},
   "outputs": [
    {
     "data": {
      "text/plain": [
       "2017    5722\n",
       "2016    5616\n",
       "2015    5615\n",
       "2018    1296\n",
       "Name: year, dtype: int64"
      ]
     },
     "execution_count": 72,
     "metadata": {},
     "output_type": "execute_result"
    }
   ],
   "source": [
    "df['year'].value_counts()"
   ]
  },
  {
   "cell_type": "code",
   "execution_count": 73,
   "id": "9f834fad",
   "metadata": {},
   "outputs": [],
   "source": [
    "df.Date = df.Date.apply(pd.to_datetime)\n",
    "df['Month'] = df['Date'].apply(lambda x:x.month)\n",
    "df.drop('Date',axis=1,inplace=True)\n",
    "df.Month = df.Month.map({1:'JAN',2:'FEB',3:'MARCH',4:'APRIL',5:'MAY',6:'JUNE',7:'JULY',8:'AUG',9:'SEPT',10:'OCT',11:'NOV',12:'DEC'})"
   ]
  },
  {
   "cell_type": "code",
   "execution_count": 74,
   "id": "4902945f",
   "metadata": {},
   "outputs": [
    {
     "data": {
      "text/html": [
       "<div>\n",
       "<style scoped>\n",
       "    .dataframe tbody tr th:only-of-type {\n",
       "        vertical-align: middle;\n",
       "    }\n",
       "\n",
       "    .dataframe tbody tr th {\n",
       "        vertical-align: top;\n",
       "    }\n",
       "\n",
       "    .dataframe thead th {\n",
       "        text-align: right;\n",
       "    }\n",
       "</style>\n",
       "<table border=\"1\" class=\"dataframe\">\n",
       "  <thead>\n",
       "    <tr style=\"text-align: right;\">\n",
       "      <th></th>\n",
       "      <th>AveragePrice</th>\n",
       "      <th>Total Volume</th>\n",
       "      <th>Total Bags</th>\n",
       "      <th>Small Bags</th>\n",
       "      <th>Large Bags</th>\n",
       "      <th>XLarge Bags</th>\n",
       "      <th>type</th>\n",
       "      <th>year</th>\n",
       "      <th>region</th>\n",
       "      <th>PL1</th>\n",
       "      <th>PL2</th>\n",
       "      <th>PL3</th>\n",
       "      <th>Month</th>\n",
       "    </tr>\n",
       "  </thead>\n",
       "  <tbody>\n",
       "    <tr>\n",
       "      <th>0</th>\n",
       "      <td>1.33</td>\n",
       "      <td>64236.62</td>\n",
       "      <td>8696.87</td>\n",
       "      <td>8603.62</td>\n",
       "      <td>93.25</td>\n",
       "      <td>0.0</td>\n",
       "      <td>conventional</td>\n",
       "      <td>2015</td>\n",
       "      <td>Albany</td>\n",
       "      <td>1036.74</td>\n",
       "      <td>54454.85</td>\n",
       "      <td>48.16</td>\n",
       "      <td>DEC</td>\n",
       "    </tr>\n",
       "    <tr>\n",
       "      <th>1</th>\n",
       "      <td>1.35</td>\n",
       "      <td>54876.98</td>\n",
       "      <td>9505.56</td>\n",
       "      <td>9408.07</td>\n",
       "      <td>97.49</td>\n",
       "      <td>0.0</td>\n",
       "      <td>conventional</td>\n",
       "      <td>2015</td>\n",
       "      <td>Albany</td>\n",
       "      <td>674.28</td>\n",
       "      <td>44638.81</td>\n",
       "      <td>58.33</td>\n",
       "      <td>DEC</td>\n",
       "    </tr>\n",
       "    <tr>\n",
       "      <th>2</th>\n",
       "      <td>0.93</td>\n",
       "      <td>118220.22</td>\n",
       "      <td>8145.35</td>\n",
       "      <td>8042.21</td>\n",
       "      <td>103.14</td>\n",
       "      <td>0.0</td>\n",
       "      <td>conventional</td>\n",
       "      <td>2015</td>\n",
       "      <td>Albany</td>\n",
       "      <td>794.70</td>\n",
       "      <td>109149.67</td>\n",
       "      <td>130.50</td>\n",
       "      <td>DEC</td>\n",
       "    </tr>\n",
       "    <tr>\n",
       "      <th>3</th>\n",
       "      <td>1.08</td>\n",
       "      <td>78992.15</td>\n",
       "      <td>5811.16</td>\n",
       "      <td>5677.40</td>\n",
       "      <td>133.76</td>\n",
       "      <td>0.0</td>\n",
       "      <td>conventional</td>\n",
       "      <td>2015</td>\n",
       "      <td>Albany</td>\n",
       "      <td>1132.00</td>\n",
       "      <td>71976.41</td>\n",
       "      <td>72.58</td>\n",
       "      <td>DEC</td>\n",
       "    </tr>\n",
       "    <tr>\n",
       "      <th>4</th>\n",
       "      <td>1.28</td>\n",
       "      <td>51039.60</td>\n",
       "      <td>6183.95</td>\n",
       "      <td>5986.26</td>\n",
       "      <td>197.69</td>\n",
       "      <td>0.0</td>\n",
       "      <td>conventional</td>\n",
       "      <td>2015</td>\n",
       "      <td>Albany</td>\n",
       "      <td>941.48</td>\n",
       "      <td>43838.39</td>\n",
       "      <td>75.78</td>\n",
       "      <td>NOV</td>\n",
       "    </tr>\n",
       "    <tr>\n",
       "      <th>...</th>\n",
       "      <td>...</td>\n",
       "      <td>...</td>\n",
       "      <td>...</td>\n",
       "      <td>...</td>\n",
       "      <td>...</td>\n",
       "      <td>...</td>\n",
       "      <td>...</td>\n",
       "      <td>...</td>\n",
       "      <td>...</td>\n",
       "      <td>...</td>\n",
       "      <td>...</td>\n",
       "      <td>...</td>\n",
       "      <td>...</td>\n",
       "    </tr>\n",
       "    <tr>\n",
       "      <th>18244</th>\n",
       "      <td>1.63</td>\n",
       "      <td>17074.83</td>\n",
       "      <td>13498.67</td>\n",
       "      <td>13066.82</td>\n",
       "      <td>431.85</td>\n",
       "      <td>0.0</td>\n",
       "      <td>organic</td>\n",
       "      <td>2018</td>\n",
       "      <td>WestTexNewMexico</td>\n",
       "      <td>2046.96</td>\n",
       "      <td>1529.20</td>\n",
       "      <td>0.00</td>\n",
       "      <td>FEB</td>\n",
       "    </tr>\n",
       "    <tr>\n",
       "      <th>18245</th>\n",
       "      <td>1.71</td>\n",
       "      <td>13888.04</td>\n",
       "      <td>9264.84</td>\n",
       "      <td>8940.04</td>\n",
       "      <td>324.80</td>\n",
       "      <td>0.0</td>\n",
       "      <td>organic</td>\n",
       "      <td>2018</td>\n",
       "      <td>WestTexNewMexico</td>\n",
       "      <td>1191.70</td>\n",
       "      <td>3431.50</td>\n",
       "      <td>0.00</td>\n",
       "      <td>JAN</td>\n",
       "    </tr>\n",
       "    <tr>\n",
       "      <th>18246</th>\n",
       "      <td>1.87</td>\n",
       "      <td>13766.76</td>\n",
       "      <td>9394.11</td>\n",
       "      <td>9351.80</td>\n",
       "      <td>42.31</td>\n",
       "      <td>0.0</td>\n",
       "      <td>organic</td>\n",
       "      <td>2018</td>\n",
       "      <td>WestTexNewMexico</td>\n",
       "      <td>1191.92</td>\n",
       "      <td>2452.79</td>\n",
       "      <td>727.94</td>\n",
       "      <td>JAN</td>\n",
       "    </tr>\n",
       "    <tr>\n",
       "      <th>18247</th>\n",
       "      <td>1.93</td>\n",
       "      <td>16205.22</td>\n",
       "      <td>10969.54</td>\n",
       "      <td>10919.54</td>\n",
       "      <td>50.00</td>\n",
       "      <td>0.0</td>\n",
       "      <td>organic</td>\n",
       "      <td>2018</td>\n",
       "      <td>WestTexNewMexico</td>\n",
       "      <td>1527.63</td>\n",
       "      <td>2981.04</td>\n",
       "      <td>727.01</td>\n",
       "      <td>JAN</td>\n",
       "    </tr>\n",
       "    <tr>\n",
       "      <th>18248</th>\n",
       "      <td>1.62</td>\n",
       "      <td>17489.58</td>\n",
       "      <td>12014.15</td>\n",
       "      <td>11988.14</td>\n",
       "      <td>26.01</td>\n",
       "      <td>0.0</td>\n",
       "      <td>organic</td>\n",
       "      <td>2018</td>\n",
       "      <td>WestTexNewMexico</td>\n",
       "      <td>2894.77</td>\n",
       "      <td>2356.13</td>\n",
       "      <td>224.53</td>\n",
       "      <td>JAN</td>\n",
       "    </tr>\n",
       "  </tbody>\n",
       "</table>\n",
       "<p>18249 rows × 13 columns</p>\n",
       "</div>"
      ],
      "text/plain": [
       "       AveragePrice  Total Volume  Total Bags  Small Bags  Large Bags  \\\n",
       "0              1.33      64236.62     8696.87     8603.62       93.25   \n",
       "1              1.35      54876.98     9505.56     9408.07       97.49   \n",
       "2              0.93     118220.22     8145.35     8042.21      103.14   \n",
       "3              1.08      78992.15     5811.16     5677.40      133.76   \n",
       "4              1.28      51039.60     6183.95     5986.26      197.69   \n",
       "...             ...           ...         ...         ...         ...   \n",
       "18244          1.63      17074.83    13498.67    13066.82      431.85   \n",
       "18245          1.71      13888.04     9264.84     8940.04      324.80   \n",
       "18246          1.87      13766.76     9394.11     9351.80       42.31   \n",
       "18247          1.93      16205.22    10969.54    10919.54       50.00   \n",
       "18248          1.62      17489.58    12014.15    11988.14       26.01   \n",
       "\n",
       "       XLarge Bags          type  year            region      PL1        PL2  \\\n",
       "0              0.0  conventional  2015            Albany  1036.74   54454.85   \n",
       "1              0.0  conventional  2015            Albany   674.28   44638.81   \n",
       "2              0.0  conventional  2015            Albany   794.70  109149.67   \n",
       "3              0.0  conventional  2015            Albany  1132.00   71976.41   \n",
       "4              0.0  conventional  2015            Albany   941.48   43838.39   \n",
       "...            ...           ...   ...               ...      ...        ...   \n",
       "18244          0.0       organic  2018  WestTexNewMexico  2046.96    1529.20   \n",
       "18245          0.0       organic  2018  WestTexNewMexico  1191.70    3431.50   \n",
       "18246          0.0       organic  2018  WestTexNewMexico  1191.92    2452.79   \n",
       "18247          0.0       organic  2018  WestTexNewMexico  1527.63    2981.04   \n",
       "18248          0.0       organic  2018  WestTexNewMexico  2894.77    2356.13   \n",
       "\n",
       "          PL3 Month  \n",
       "0       48.16   DEC  \n",
       "1       58.33   DEC  \n",
       "2      130.50   DEC  \n",
       "3       72.58   DEC  \n",
       "4       75.78   NOV  \n",
       "...       ...   ...  \n",
       "18244    0.00   FEB  \n",
       "18245    0.00   JAN  \n",
       "18246  727.94   JAN  \n",
       "18247  727.01   JAN  \n",
       "18248  224.53   JAN  \n",
       "\n",
       "[18249 rows x 13 columns]"
      ]
     },
     "execution_count": 74,
     "metadata": {},
     "output_type": "execute_result"
    }
   ],
   "source": [
    "df"
   ]
  },
  {
   "cell_type": "code",
   "execution_count": 75,
   "id": "f610a495",
   "metadata": {},
   "outputs": [
    {
     "data": {
      "text/plain": [
       "<AxesSubplot:xlabel='year', ylabel='AveragePrice'>"
      ]
     },
     "execution_count": 75,
     "metadata": {},
     "output_type": "execute_result"
    },
    {
     "data": {
      "image/png": "[encoded data removed]",
      "text/plain": [
       "<Figure size 432x288 with 1 Axes>"
      ]
     },
     "metadata": {
      "needs_background": "light"
     },
     "output_type": "display_data"
    }
   ],
   "source": [
    "sns.barplot(x='year',y='AveragePrice',data=df)"
   ]
  },
  {
   "cell_type": "markdown",
   "id": "0a77e3be",
   "metadata": {},
   "source": [
    "As we can see 2017 is higher in comparision to other years"
   ]
  },
  {
   "cell_type": "code",
   "execution_count": 76,
   "id": "5be58de3",
   "metadata": {},
   "outputs": [
    {
     "data": {
      "text/plain": [
       "<AxesSubplot:xlabel='Month', ylabel='AveragePrice'>"
      ]
     },
     "execution_count": 76,
     "metadata": {},
     "output_type": "execute_result"
    },
    {
     "data": {
      "image/png": "[encoded data removed]",
      "text/plain": [
       "<Figure size 432x288 with 1 Axes>"
      ]
     },
     "metadata": {
      "needs_background": "light"
     },
     "output_type": "display_data"
    }
   ],
   "source": [
    "sns.barplot(x='Month',y='AveragePrice',data=df)"
   ]
  },
  {
   "cell_type": "code",
   "execution_count": 77,
   "id": "72e046bf",
   "metadata": {},
   "outputs": [
    {
     "data": {
      "text/plain": [
       "<AxesSubplot:xlabel='year', ylabel='Total Volume'>"
      ]
     },
     "execution_count": 77,
     "metadata": {},
     "output_type": "execute_result"
    },
    {
     "data": {
      "image/png": "[encoded data removed]",
      "text/plain": [
       "<Figure size 432x288 with 1 Axes>"
      ]
     },
     "metadata": {
      "needs_background": "light"
     },
     "output_type": "display_data"
    }
   ],
   "source": [
    "sns.barplot(x='year',y='Total Volume',data=df)"
   ]
  },
  {
   "cell_type": "markdown",
   "id": "b92efc96",
   "metadata": {},
   "source": [
    "Volume is higher in the year 2018"
   ]
  },
  {
   "cell_type": "code",
   "execution_count": 78,
   "id": "e12b31fa",
   "metadata": {},
   "outputs": [
    {
     "data": {
      "text/plain": [
       "<AxesSubplot:xlabel='Month,year'>"
      ]
     },
     "execution_count": 78,
     "metadata": {},
     "output_type": "execute_result"
    },
    {
     "data": {
      "image/png": "[encoded data removed]",
      "text/plain": [
       "<Figure size 1080x720 with 1 Axes>"
      ]
     },
     "metadata": {
      "needs_background": "light"
     },
     "output_type": "display_data"
    }
   ],
   "source": [
    "df.groupby(['Month','year']).agg({'AveragePrice':np.mean}).plot.bar(figsize=(15, 10))"
   ]
  },
  {
   "cell_type": "code",
   "execution_count": 79,
   "id": "1a09999c",
   "metadata": {},
   "outputs": [
    {
     "data": {
      "image/png": "[encoded data removed]",
      "text/plain": [
       "<Figure size 1224x576 with 1 Axes>"
      ]
     },
     "metadata": {
      "needs_background": "light"
     },
     "output_type": "display_data"
    }
   ],
   "source": [
    "plt.figure(figsize=(17,8))\n",
    "sns.barplot(x='region',y='AveragePrice',data=df)\n",
    "plt.xticks(rotation=90)\n",
    "plt.show()"
   ]
  },
  {
   "cell_type": "markdown",
   "id": "6342a724",
   "metadata": {},
   "source": [
    "Avg price is very low in south central,Columbus,HartfordSpringfield"
   ]
  },
  {
   "cell_type": "code",
   "execution_count": 80,
   "id": "dd78527b",
   "metadata": {},
   "outputs": [
    {
     "data": {
      "text/plain": [
       "<AxesSubplot:>"
      ]
     },
     "execution_count": 80,
     "metadata": {},
     "output_type": "execute_result"
    },
    {
     "data": {
      "image/png": "[encoded data removed]",
      "text/plain": [
       "<Figure size 1080x720 with 2 Axes>"
      ]
     },
     "metadata": {
      "needs_background": "light"
     },
     "output_type": "display_data"
    }
   ],
   "source": [
    "df.corr()\n",
    "plt.figure(figsize=(15,10))\n",
    "sns.heatmap(df.corr(),annot=True,cmap=\"Blues\")"
   ]
  },
  {
   "cell_type": "markdown",
   "id": "eb2b521c",
   "metadata": {},
   "source": [
    "Observation:\n",
    "\n",
    "- We can see that Total Volume is highly co related with almost all the features."
   ]
  },
  {
   "cell_type": "code",
   "execution_count": 81,
   "id": "bb93ad1c",
   "metadata": {},
   "outputs": [],
   "source": [
    "columns=['AveragePrice','Total Volume','Total Bags','Small Bags','Large Bags','XLarge Bags','PL1','PL2','PL3']"
   ]
  },
  {
   "cell_type": "code",
   "execution_count": 82,
   "id": "ffbb1a90",
   "metadata": {},
   "outputs": [],
   "source": [
    "df.drop(['type'],axis=1,inplace=True)"
   ]
  },
  {
   "cell_type": "code",
   "execution_count": 83,
   "id": "c36e1fbc",
   "metadata": {},
   "outputs": [
    {
     "data": {
      "image/png": "[encoded data removed]",
      "text/plain": [
       "<Figure size 432x288 with 1 Axes>"
      ]
     },
     "metadata": {
      "needs_background": "light"
     },
     "output_type": "display_data"
    },
    {
     "data": {
      "image/png": "[encoded data removed]",
      "text/plain": [
       "<Figure size 432x288 with 1 Axes>"
      ]
     },
     "metadata": {
      "needs_background": "light"
     },
     "output_type": "display_data"
    },
    {
     "data": {
      "image/png": "[encoded data removed]",
      "text/plain": [
       "<Figure size 432x288 with 1 Axes>"
      ]
     },
     "metadata": {
      "needs_background": "light"
     },
     "output_type": "display_data"
    },
    {
     "data": {
      "image/png": "[encoded data removed]",
      "text/plain": [
       "<Figure size 432x288 with 1 Axes>"
      ]
     },
     "metadata": {
      "needs_background": "light"
     },
     "output_type": "display_data"
    },
    {
     "data": {
      "image/png": "[encoded data removed]",
      "text/plain": [
       "<Figure size 432x288 with 1 Axes>"
      ]
     },
     "metadata": {
      "needs_background": "light"
     },
     "output_type": "display_data"
    },
    {
     "data": {
      "image/png": "[encoded data removed]",
      "text/plain": [
       "<Figure size 432x288 with 1 Axes>"
      ]
     },
     "metadata": {
      "needs_background": "light"
     },
     "output_type": "display_data"
    },
    {
     "data": {
      "image/png": "[encoded data removed]",
      "text/plain": [
       "<Figure size 432x288 with 1 Axes>"
      ]
     },
     "metadata": {
      "needs_background": "light"
     },
     "output_type": "display_data"
    },
    {
     "data": {
      "image/png": "[encoded data removed]",
      "text/plain": [
       "<Figure size 432x288 with 1 Axes>"
      ]
     },
     "metadata": {
      "needs_background": "light"
     },
     "output_type": "display_data"
    },
    {
     "data": {
      "image/png": "[encoded data removed]",
      "text/plain": [
       "<Figure size 432x288 with 1 Axes>"
      ]
     },
     "metadata": {
      "needs_background": "light"
     },
     "output_type": "display_data"
    }
   ],
   "source": [
    "for i in columns:\n",
    "    sns.distplot(df[i])\n",
    "    plt.show()"
   ]
  },
  {
   "cell_type": "markdown",
   "id": "6e58053e",
   "metadata": {},
   "source": [
    "Most of the features are right skewed"
   ]
  },
  {
   "cell_type": "code",
   "execution_count": 84,
   "id": "690a8dbc",
   "metadata": {},
   "outputs": [
    {
     "data": {
      "image/png": "[encoded data removed]",
      "text/plain": [
       "<Figure size 432x288 with 1 Axes>"
      ]
     },
     "metadata": {
      "needs_background": "light"
     },
     "output_type": "display_data"
    },
    {
     "data": {
      "image/png": "[encoded data removed]",
      "text/plain": [
       "<Figure size 432x288 with 1 Axes>"
      ]
     },
     "metadata": {
      "needs_background": "light"
     },
     "output_type": "display_data"
    },
    {
     "data": {
      "image/png": "[encoded data removed]",
      "text/plain": [
       "<Figure size 432x288 with 1 Axes>"
      ]
     },
     "metadata": {
      "needs_background": "light"
     },
     "output_type": "display_data"
    },
    {
     "data": {
      "image/png": "[encoded data removed]",
      "text/plain": [
       "<Figure size 432x288 with 1 Axes>"
      ]
     },
     "metadata": {
      "needs_background": "light"
     },
     "output_type": "display_data"
    },
    {
     "data": {
      "image/png": "[encoded data removed]",
      "text/plain": [
       "<Figure size 432x288 with 1 Axes>"
      ]
     },
     "metadata": {
      "needs_background": "light"
     },
     "output_type": "display_data"
    },
    {
     "data": {
      "image/png": "[encoded data removed]",
      "text/plain": [
       "<Figure size 432x288 with 1 Axes>"
      ]
     },
     "metadata": {
      "needs_background": "light"
     },
     "output_type": "display_data"
    },
    {
     "data": {
      "image/png": "[encoded data removed]",
      "text/plain": [
       "<Figure size 432x288 with 1 Axes>"
      ]
     },
     "metadata": {
      "needs_background": "light"
     },
     "output_type": "display_data"
    },
    {
     "data": {
      "image/png": "[encoded data removed]",
      "text/plain": [
       "<Figure size 432x288 with 1 Axes>"
      ]
     },
     "metadata": {
      "needs_background": "light"
     },
     "output_type": "display_data"
    },
    {
     "data": {
      "image/png": "[encoded data removed]",
      "text/plain": [
       "<Figure size 432x288 with 1 Axes>"
      ]
     },
     "metadata": {
      "needs_background": "light"
     },
     "output_type": "display_data"
    }
   ],
   "source": [
    "for i in columns:\n",
    "    sns.boxplot(df[i])\n",
    "    plt.show()"
   ]
  },
  {
   "cell_type": "markdown",
   "id": "1a710f50",
   "metadata": {},
   "source": [
    "There are so many outliers present in the dataset,we have to romove it."
   ]
  },
  {
   "cell_type": "markdown",
   "id": "76cd2ef5",
   "metadata": {},
   "source": [
    "#### Now we have to convert the categorical feature into numerical using Label encoder."
   ]
  },
  {
   "cell_type": "code",
   "execution_count": 85,
   "id": "160d62aa",
   "metadata": {},
   "outputs": [],
   "source": [
    "columns_cat=['year','Month','region']"
   ]
  },
  {
   "cell_type": "code",
   "execution_count": 86,
   "id": "7060f834",
   "metadata": {},
   "outputs": [],
   "source": [
    "from sklearn.preprocessing import LabelEncoder\n",
    "le=LabelEncoder()"
   ]
  },
  {
   "cell_type": "code",
   "execution_count": 87,
   "id": "b1875cf7",
   "metadata": {},
   "outputs": [],
   "source": [
    "for i in range(len(columns_cat)):\n",
    "    df[columns_cat[i]]=le.fit_transform(df[columns_cat[i]])"
   ]
  },
  {
   "cell_type": "code",
   "execution_count": 88,
   "id": "9496ecec",
   "metadata": {},
   "outputs": [
    {
     "data": {
      "text/html": [
       "<div>\n",
       "<style scoped>\n",
       "    .dataframe tbody tr th:only-of-type {\n",
       "        vertical-align: middle;\n",
       "    }\n",
       "\n",
       "    .dataframe tbody tr th {\n",
       "        vertical-align: top;\n",
       "    }\n",
       "\n",
       "    .dataframe thead th {\n",
       "        text-align: right;\n",
       "    }\n",
       "</style>\n",
       "<table border=\"1\" class=\"dataframe\">\n",
       "  <thead>\n",
       "    <tr style=\"text-align: right;\">\n",
       "      <th></th>\n",
       "      <th>AveragePrice</th>\n",
       "      <th>Total Volume</th>\n",
       "      <th>Total Bags</th>\n",
       "      <th>Small Bags</th>\n",
       "      <th>Large Bags</th>\n",
       "      <th>XLarge Bags</th>\n",
       "      <th>year</th>\n",
       "      <th>region</th>\n",
       "      <th>PL1</th>\n",
       "      <th>PL2</th>\n",
       "      <th>PL3</th>\n",
       "      <th>Month</th>\n",
       "    </tr>\n",
       "  </thead>\n",
       "  <tbody>\n",
       "    <tr>\n",
       "      <th>0</th>\n",
       "      <td>1.33</td>\n",
       "      <td>64236.62</td>\n",
       "      <td>8696.87</td>\n",
       "      <td>8603.62</td>\n",
       "      <td>93.25</td>\n",
       "      <td>0.0</td>\n",
       "      <td>0</td>\n",
       "      <td>0</td>\n",
       "      <td>1036.74</td>\n",
       "      <td>54454.85</td>\n",
       "      <td>48.16</td>\n",
       "      <td>2</td>\n",
       "    </tr>\n",
       "    <tr>\n",
       "      <th>1</th>\n",
       "      <td>1.35</td>\n",
       "      <td>54876.98</td>\n",
       "      <td>9505.56</td>\n",
       "      <td>9408.07</td>\n",
       "      <td>97.49</td>\n",
       "      <td>0.0</td>\n",
       "      <td>0</td>\n",
       "      <td>0</td>\n",
       "      <td>674.28</td>\n",
       "      <td>44638.81</td>\n",
       "      <td>58.33</td>\n",
       "      <td>2</td>\n",
       "    </tr>\n",
       "    <tr>\n",
       "      <th>2</th>\n",
       "      <td>0.93</td>\n",
       "      <td>118220.22</td>\n",
       "      <td>8145.35</td>\n",
       "      <td>8042.21</td>\n",
       "      <td>103.14</td>\n",
       "      <td>0.0</td>\n",
       "      <td>0</td>\n",
       "      <td>0</td>\n",
       "      <td>794.70</td>\n",
       "      <td>109149.67</td>\n",
       "      <td>130.50</td>\n",
       "      <td>2</td>\n",
       "    </tr>\n",
       "    <tr>\n",
       "      <th>3</th>\n",
       "      <td>1.08</td>\n",
       "      <td>78992.15</td>\n",
       "      <td>5811.16</td>\n",
       "      <td>5677.40</td>\n",
       "      <td>133.76</td>\n",
       "      <td>0.0</td>\n",
       "      <td>0</td>\n",
       "      <td>0</td>\n",
       "      <td>1132.00</td>\n",
       "      <td>71976.41</td>\n",
       "      <td>72.58</td>\n",
       "      <td>2</td>\n",
       "    </tr>\n",
       "    <tr>\n",
       "      <th>4</th>\n",
       "      <td>1.28</td>\n",
       "      <td>51039.60</td>\n",
       "      <td>6183.95</td>\n",
       "      <td>5986.26</td>\n",
       "      <td>197.69</td>\n",
       "      <td>0.0</td>\n",
       "      <td>0</td>\n",
       "      <td>0</td>\n",
       "      <td>941.48</td>\n",
       "      <td>43838.39</td>\n",
       "      <td>75.78</td>\n",
       "      <td>9</td>\n",
       "    </tr>\n",
       "    <tr>\n",
       "      <th>...</th>\n",
       "      <td>...</td>\n",
       "      <td>...</td>\n",
       "      <td>...</td>\n",
       "      <td>...</td>\n",
       "      <td>...</td>\n",
       "      <td>...</td>\n",
       "      <td>...</td>\n",
       "      <td>...</td>\n",
       "      <td>...</td>\n",
       "      <td>...</td>\n",
       "      <td>...</td>\n",
       "      <td>...</td>\n",
       "    </tr>\n",
       "    <tr>\n",
       "      <th>18244</th>\n",
       "      <td>1.63</td>\n",
       "      <td>17074.83</td>\n",
       "      <td>13498.67</td>\n",
       "      <td>13066.82</td>\n",
       "      <td>431.85</td>\n",
       "      <td>0.0</td>\n",
       "      <td>3</td>\n",
       "      <td>53</td>\n",
       "      <td>2046.96</td>\n",
       "      <td>1529.20</td>\n",
       "      <td>0.00</td>\n",
       "      <td>3</td>\n",
       "    </tr>\n",
       "    <tr>\n",
       "      <th>18245</th>\n",
       "      <td>1.71</td>\n",
       "      <td>13888.04</td>\n",
       "      <td>9264.84</td>\n",
       "      <td>8940.04</td>\n",
       "      <td>324.80</td>\n",
       "      <td>0.0</td>\n",
       "      <td>3</td>\n",
       "      <td>53</td>\n",
       "      <td>1191.70</td>\n",
       "      <td>3431.50</td>\n",
       "      <td>0.00</td>\n",
       "      <td>4</td>\n",
       "    </tr>\n",
       "    <tr>\n",
       "      <th>18246</th>\n",
       "      <td>1.87</td>\n",
       "      <td>13766.76</td>\n",
       "      <td>9394.11</td>\n",
       "      <td>9351.80</td>\n",
       "      <td>42.31</td>\n",
       "      <td>0.0</td>\n",
       "      <td>3</td>\n",
       "      <td>53</td>\n",
       "      <td>1191.92</td>\n",
       "      <td>2452.79</td>\n",
       "      <td>727.94</td>\n",
       "      <td>4</td>\n",
       "    </tr>\n",
       "    <tr>\n",
       "      <th>18247</th>\n",
       "      <td>1.93</td>\n",
       "      <td>16205.22</td>\n",
       "      <td>10969.54</td>\n",
       "      <td>10919.54</td>\n",
       "      <td>50.00</td>\n",
       "      <td>0.0</td>\n",
       "      <td>3</td>\n",
       "      <td>53</td>\n",
       "      <td>1527.63</td>\n",
       "      <td>2981.04</td>\n",
       "      <td>727.01</td>\n",
       "      <td>4</td>\n",
       "    </tr>\n",
       "    <tr>\n",
       "      <th>18248</th>\n",
       "      <td>1.62</td>\n",
       "      <td>17489.58</td>\n",
       "      <td>12014.15</td>\n",
       "      <td>11988.14</td>\n",
       "      <td>26.01</td>\n",
       "      <td>0.0</td>\n",
       "      <td>3</td>\n",
       "      <td>53</td>\n",
       "      <td>2894.77</td>\n",
       "      <td>2356.13</td>\n",
       "      <td>224.53</td>\n",
       "      <td>4</td>\n",
       "    </tr>\n",
       "  </tbody>\n",
       "</table>\n",
       "<p>18249 rows × 12 columns</p>\n",
       "</div>"
      ],
      "text/plain": [
       "       AveragePrice  Total Volume  Total Bags  Small Bags  Large Bags  \\\n",
       "0              1.33      64236.62     8696.87     8603.62       93.25   \n",
       "1              1.35      54876.98     9505.56     9408.07       97.49   \n",
       "2              0.93     118220.22     8145.35     8042.21      103.14   \n",
       "3              1.08      78992.15     5811.16     5677.40      133.76   \n",
       "4              1.28      51039.60     6183.95     5986.26      197.69   \n",
       "...             ...           ...         ...         ...         ...   \n",
       "18244          1.63      17074.83    13498.67    13066.82      431.85   \n",
       "18245          1.71      13888.04     9264.84     8940.04      324.80   \n",
       "18246          1.87      13766.76     9394.11     9351.80       42.31   \n",
       "18247          1.93      16205.22    10969.54    10919.54       50.00   \n",
       "18248          1.62      17489.58    12014.15    11988.14       26.01   \n",
       "\n",
       "       XLarge Bags  year  region      PL1        PL2     PL3  Month  \n",
       "0              0.0     0       0  1036.74   54454.85   48.16      2  \n",
       "1              0.0     0       0   674.28   44638.81   58.33      2  \n",
       "2              0.0     0       0   794.70  109149.67  130.50      2  \n",
       "3              0.0     0       0  1132.00   71976.41   72.58      2  \n",
       "4              0.0     0       0   941.48   43838.39   75.78      9  \n",
       "...            ...   ...     ...      ...        ...     ...    ...  \n",
       "18244          0.0     3      53  2046.96    1529.20    0.00      3  \n",
       "18245          0.0     3      53  1191.70    3431.50    0.00      4  \n",
       "18246          0.0     3      53  1191.92    2452.79  727.94      4  \n",
       "18247          0.0     3      53  1527.63    2981.04  727.01      4  \n",
       "18248          0.0     3      53  2894.77    2356.13  224.53      4  \n",
       "\n",
       "[18249 rows x 12 columns]"
      ]
     },
     "execution_count": 88,
     "metadata": {},
     "output_type": "execute_result"
    }
   ],
   "source": [
    "df"
   ]
  },
  {
   "cell_type": "markdown",
   "id": "562b9967",
   "metadata": {},
   "source": [
    "Lets treat the outliers using Zscore"
   ]
  },
  {
   "cell_type": "code",
   "execution_count": 89,
   "id": "a519d1d3",
   "metadata": {},
   "outputs": [
    {
     "name": "stdout",
     "output_type": "stream",
     "text": [
      "(array([  346,   359,   780, ..., 17304, 17402, 17428], dtype=int64), array([8, 8, 5, ..., 0, 0, 0], dtype=int64))\n"
     ]
    }
   ],
   "source": [
    "from scipy.stats import zscore\n",
    "zscr=np.abs(zscore(df))\n",
    "\n",
    "threshold=3\n",
    "print(np.where(zscr>3))"
   ]
  },
  {
   "cell_type": "code",
   "execution_count": 90,
   "id": "3f8a57e0",
   "metadata": {},
   "outputs": [
    {
     "name": "stdout",
     "output_type": "stream",
     "text": [
      "shape before removing the outliers: (18249, 12)\n",
      "shape after removing the outliers: (17651, 12)\n"
     ]
    }
   ],
   "source": [
    "print('shape before removing the outliers:', df.shape)\n",
    "\n",
    "dfnew=df[(zscr<3).all(axis=1)]\n",
    "\n",
    "print('shape after removing the outliers:', dfnew.shape)"
   ]
  },
  {
   "cell_type": "code",
   "execution_count": 91,
   "id": "08f1cd2d",
   "metadata": {},
   "outputs": [],
   "source": [
    "df=dfnew"
   ]
  },
  {
   "cell_type": "markdown",
   "id": "88f5eba3",
   "metadata": {},
   "source": [
    "NOw lets check for the skewness"
   ]
  },
  {
   "cell_type": "code",
   "execution_count": 92,
   "id": "ab80e8d4",
   "metadata": {},
   "outputs": [],
   "source": [
    "for i in columns:\n",
    "    if df[i].skew()>0.50:\n",
    "        df[i]=np.log1p(df[i])"
   ]
  },
  {
   "cell_type": "code",
   "execution_count": 93,
   "id": "3259bba1",
   "metadata": {},
   "outputs": [
    {
     "data": {
      "text/plain": [
       "AveragePrice    0.377432\n",
       "Total Volume   -0.049950\n",
       "Total Bags     -0.384493\n",
       "Small Bags     -0.788988\n",
       "Large Bags     -0.610874\n",
       "XLarge Bags     1.216238\n",
       "year            0.229976\n",
       "region          0.012798\n",
       "PL1            -0.420273\n",
       "PL2            -0.604619\n",
       "PL3             0.068532\n",
       "Month           0.029197\n",
       "dtype: float64"
      ]
     },
     "execution_count": 93,
     "metadata": {},
     "output_type": "execute_result"
    }
   ],
   "source": [
    "df.skew()"
   ]
  },
  {
   "cell_type": "markdown",
   "id": "a7929dcd",
   "metadata": {},
   "source": [
    "# Model Building"
   ]
  },
  {
   "cell_type": "code",
   "execution_count": 94,
   "id": "67ef360e",
   "metadata": {},
   "outputs": [],
   "source": [
    "#lets split the data first\n",
    "x=df.drop(['AveragePrice'],axis=1)\n",
    "y=df['AveragePrice']\n",
    "y=pd.DataFrame(data=y)"
   ]
  },
  {
   "cell_type": "code",
   "execution_count": 95,
   "id": "8e5bc692",
   "metadata": {},
   "outputs": [],
   "source": [
    "#now we have to scale the data using Standard Scaler\n",
    "from sklearn.preprocessing import StandardScaler\n",
    "sc=StandardScaler()\n",
    "sc_x=sc.fit_transform(x)\n",
    "x=pd.DataFrame(sc_x,columns=x.columns)"
   ]
  },
  {
   "cell_type": "code",
   "execution_count": 96,
   "id": "21f864d5",
   "metadata": {},
   "outputs": [
    {
     "data": {
      "text/html": [
       "<div>\n",
       "<style scoped>\n",
       "    .dataframe tbody tr th:only-of-type {\n",
       "        vertical-align: middle;\n",
       "    }\n",
       "\n",
       "    .dataframe tbody tr th {\n",
       "        vertical-align: top;\n",
       "    }\n",
       "\n",
       "    .dataframe thead th {\n",
       "        text-align: right;\n",
       "    }\n",
       "</style>\n",
       "<table border=\"1\" class=\"dataframe\">\n",
       "  <thead>\n",
       "    <tr style=\"text-align: right;\">\n",
       "      <th></th>\n",
       "      <th>Total Volume</th>\n",
       "      <th>Total Bags</th>\n",
       "      <th>Small Bags</th>\n",
       "      <th>Large Bags</th>\n",
       "      <th>XLarge Bags</th>\n",
       "      <th>year</th>\n",
       "      <th>region</th>\n",
       "      <th>PL1</th>\n",
       "      <th>PL2</th>\n",
       "      <th>PL3</th>\n",
       "      <th>Month</th>\n",
       "    </tr>\n",
       "  </thead>\n",
       "  <tbody>\n",
       "    <tr>\n",
       "      <th>0</th>\n",
       "      <td>-0.061962</td>\n",
       "      <td>-0.473426</td>\n",
       "      <td>-0.215789</td>\n",
       "      <td>-0.648254</td>\n",
       "      <td>-0.627319</td>\n",
       "      <td>-1.210013</td>\n",
       "      <td>-1.695495</td>\n",
       "      <td>-0.587318</td>\n",
       "      <td>0.431565</td>\n",
       "      <td>-0.246207</td>\n",
       "      <td>-1.029537</td>\n",
       "    </tr>\n",
       "    <tr>\n",
       "      <th>1</th>\n",
       "      <td>-0.134302</td>\n",
       "      <td>-0.431908</td>\n",
       "      <td>-0.179590</td>\n",
       "      <td>-0.636520</td>\n",
       "      <td>-0.627319</td>\n",
       "      <td>-1.210013</td>\n",
       "      <td>-1.695495</td>\n",
       "      <td>-0.719464</td>\n",
       "      <td>0.359601</td>\n",
       "      <td>-0.199437</td>\n",
       "      <td>-1.029537</td>\n",
       "    </tr>\n",
       "    <tr>\n",
       "      <th>2</th>\n",
       "      <td>0.218235</td>\n",
       "      <td>-0.504018</td>\n",
       "      <td>-0.243116</td>\n",
       "      <td>-0.621646</td>\n",
       "      <td>-0.627319</td>\n",
       "      <td>-1.210013</td>\n",
       "      <td>-1.695495</td>\n",
       "      <td>-0.668997</td>\n",
       "      <td>0.683316</td>\n",
       "      <td>-0.001478</td>\n",
       "      <td>-1.029537</td>\n",
       "    </tr>\n",
       "    <tr>\n",
       "      <th>3</th>\n",
       "      <td>0.033021</td>\n",
       "      <td>-0.661685</td>\n",
       "      <td>-0.384129</td>\n",
       "      <td>-0.552915</td>\n",
       "      <td>-0.627319</td>\n",
       "      <td>-1.210013</td>\n",
       "      <td>-1.695495</td>\n",
       "      <td>-0.560308</td>\n",
       "      <td>0.532565</td>\n",
       "      <td>-0.145897</td>\n",
       "      <td>-1.029537</td>\n",
       "    </tr>\n",
       "    <tr>\n",
       "      <th>4</th>\n",
       "      <td>-0.167601</td>\n",
       "      <td>-0.632653</td>\n",
       "      <td>-0.362677</td>\n",
       "      <td>-0.449388</td>\n",
       "      <td>-0.627319</td>\n",
       "      <td>-1.210013</td>\n",
       "      <td>-1.695495</td>\n",
       "      <td>-0.616931</td>\n",
       "      <td>0.353051</td>\n",
       "      <td>-0.135308</td>\n",
       "      <td>1.062882</td>\n",
       "    </tr>\n",
       "    <tr>\n",
       "      <th>...</th>\n",
       "      <td>...</td>\n",
       "      <td>...</td>\n",
       "      <td>...</td>\n",
       "      <td>...</td>\n",
       "      <td>...</td>\n",
       "      <td>...</td>\n",
       "      <td>...</td>\n",
       "      <td>...</td>\n",
       "      <td>...</td>\n",
       "      <td>...</td>\n",
       "      <td>...</td>\n",
       "    </tr>\n",
       "    <tr>\n",
       "      <th>17646</th>\n",
       "      <td>-0.670586</td>\n",
       "      <td>-0.268139</td>\n",
       "      <td>-0.046548</td>\n",
       "      <td>-0.241763</td>\n",
       "      <td>-0.627319</td>\n",
       "      <td>1.980756</td>\n",
       "      <td>1.747054</td>\n",
       "      <td>-0.378245</td>\n",
       "      <td>-0.861693</td>\n",
       "      <td>-1.215018</td>\n",
       "      <td>-0.730620</td>\n",
       "    </tr>\n",
       "    <tr>\n",
       "      <th>17647</th>\n",
       "      <td>-0.765474</td>\n",
       "      <td>-0.443885</td>\n",
       "      <td>-0.200255</td>\n",
       "      <td>-0.317520</td>\n",
       "      <td>-0.627319</td>\n",
       "      <td>1.980756</td>\n",
       "      <td>1.747054</td>\n",
       "      <td>-0.544515</td>\n",
       "      <td>-0.569192</td>\n",
       "      <td>-1.215018</td>\n",
       "      <td>-0.431703</td>\n",
       "    </tr>\n",
       "    <tr>\n",
       "      <th>17648</th>\n",
       "      <td>-0.769503</td>\n",
       "      <td>-0.437415</td>\n",
       "      <td>-0.182019</td>\n",
       "      <td>-0.855591</td>\n",
       "      <td>-0.627319</td>\n",
       "      <td>1.980756</td>\n",
       "      <td>1.747054</td>\n",
       "      <td>-0.544458</td>\n",
       "      <td>-0.690718</td>\n",
       "      <td>0.424488</td>\n",
       "      <td>-0.431703</td>\n",
       "    </tr>\n",
       "    <tr>\n",
       "      <th>17649</th>\n",
       "      <td>-0.694596</td>\n",
       "      <td>-0.365019</td>\n",
       "      <td>-0.119253</td>\n",
       "      <td>-0.812010</td>\n",
       "      <td>-0.627319</td>\n",
       "      <td>1.980756</td>\n",
       "      <td>1.747054</td>\n",
       "      <td>-0.468195</td>\n",
       "      <td>-0.620126</td>\n",
       "      <td>0.424171</td>\n",
       "      <td>-0.431703</td>\n",
       "    </tr>\n",
       "    <tr>\n",
       "      <th>17650</th>\n",
       "      <td>-0.659562</td>\n",
       "      <td>-0.322543</td>\n",
       "      <td>-0.081441</td>\n",
       "      <td>-0.981497</td>\n",
       "      <td>-0.627319</td>\n",
       "      <td>1.980756</td>\n",
       "      <td>1.747054</td>\n",
       "      <td>-0.271708</td>\n",
       "      <td>-0.705268</td>\n",
       "      <td>0.132697</td>\n",
       "      <td>-0.431703</td>\n",
       "    </tr>\n",
       "  </tbody>\n",
       "</table>\n",
       "<p>17651 rows × 11 columns</p>\n",
       "</div>"
      ],
      "text/plain": [
       "       Total Volume  Total Bags  Small Bags  Large Bags  XLarge Bags  \\\n",
       "0         -0.061962   -0.473426   -0.215789   -0.648254    -0.627319   \n",
       "1         -0.134302   -0.431908   -0.179590   -0.636520    -0.627319   \n",
       "2          0.218235   -0.504018   -0.243116   -0.621646    -0.627319   \n",
       "3          0.033021   -0.661685   -0.384129   -0.552915    -0.627319   \n",
       "4         -0.167601   -0.632653   -0.362677   -0.449388    -0.627319   \n",
       "...             ...         ...         ...         ...          ...   \n",
       "17646     -0.670586   -0.268139   -0.046548   -0.241763    -0.627319   \n",
       "17647     -0.765474   -0.443885   -0.200255   -0.317520    -0.627319   \n",
       "17648     -0.769503   -0.437415   -0.182019   -0.855591    -0.627319   \n",
       "17649     -0.694596   -0.365019   -0.119253   -0.812010    -0.627319   \n",
       "17650     -0.659562   -0.322543   -0.081441   -0.981497    -0.627319   \n",
       "\n",
       "           year    region       PL1       PL2       PL3     Month  \n",
       "0     -1.210013 -1.695495 -0.587318  0.431565 -0.246207 -1.029537  \n",
       "1     -1.210013 -1.695495 -0.719464  0.359601 -0.199437 -1.029537  \n",
       "2     -1.210013 -1.695495 -0.668997  0.683316 -0.001478 -1.029537  \n",
       "3     -1.210013 -1.695495 -0.560308  0.532565 -0.145897 -1.029537  \n",
       "4     -1.210013 -1.695495 -0.616931  0.353051 -0.135308  1.062882  \n",
       "...         ...       ...       ...       ...       ...       ...  \n",
       "17646  1.980756  1.747054 -0.378245 -0.861693 -1.215018 -0.730620  \n",
       "17647  1.980756  1.747054 -0.544515 -0.569192 -1.215018 -0.431703  \n",
       "17648  1.980756  1.747054 -0.544458 -0.690718  0.424488 -0.431703  \n",
       "17649  1.980756  1.747054 -0.468195 -0.620126  0.424171 -0.431703  \n",
       "17650  1.980756  1.747054 -0.271708 -0.705268  0.132697 -0.431703  \n",
       "\n",
       "[17651 rows x 11 columns]"
      ]
     },
     "execution_count": 96,
     "metadata": {},
     "output_type": "execute_result"
    }
   ],
   "source": [
    "x"
   ]
  },
  {
   "cell_type": "code",
   "execution_count": 97,
   "id": "b1043680",
   "metadata": {},
   "outputs": [
    {
     "name": "stdout",
     "output_type": "stream",
     "text": [
      "At random state 0,the training accuracy is: 0.4637177543184906\n",
      "At random state 0,the testing accuracy is: 0.4612915304404469\n",
      "\n",
      "\n",
      "At random state 1,the training accuracy is: 0.46164879613027066\n",
      "At random state 1,the testing accuracy is: 0.4695895748192176\n",
      "\n",
      "\n",
      "At random state 2,the training accuracy is: 0.46731767954128645\n",
      "At random state 2,the testing accuracy is: 0.4468171517102444\n",
      "\n",
      "\n",
      "At random state 3,the training accuracy is: 0.4615270017315871\n",
      "At random state 3,the testing accuracy is: 0.47023970213015953\n",
      "\n",
      "\n",
      "At random state 4,the training accuracy is: 0.4620344852430529\n",
      "At random state 4,the testing accuracy is: 0.46835218381457766\n",
      "\n",
      "\n",
      "At random state 5,the training accuracy is: 0.45819221588197967\n",
      "At random state 5,the testing accuracy is: 0.48276932801164507\n",
      "\n",
      "\n",
      "At random state 6,the training accuracy is: 0.45950623842633287\n",
      "At random state 6,the testing accuracy is: 0.4778263015445495\n",
      "\n",
      "\n",
      "At random state 7,the training accuracy is: 0.46331161723057035\n",
      "At random state 7,the testing accuracy is: 0.4626600082685264\n",
      "\n",
      "\n",
      "At random state 8,the training accuracy is: 0.4618598983693273\n",
      "At random state 8,the testing accuracy is: 0.46801062404326366\n",
      "\n",
      "\n",
      "At random state 9,the training accuracy is: 0.4594007780600471\n",
      "At random state 9,the testing accuracy is: 0.4784596241065937\n",
      "\n",
      "\n",
      "At random state 10,the training accuracy is: 0.4663813076497061\n",
      "At random state 10,the testing accuracy is: 0.45003706284146017\n",
      "\n",
      "\n",
      "At random state 11,the training accuracy is: 0.46255879076623496\n",
      "At random state 11,the testing accuracy is: 0.4659948547063216\n",
      "\n",
      "\n",
      "At random state 12,the training accuracy is: 0.4668497767024288\n",
      "At random state 12,the testing accuracy is: 0.4485889107633131\n",
      "\n",
      "\n",
      "At random state 13,the training accuracy is: 0.4646702238633673\n",
      "At random state 13,the testing accuracy is: 0.4575259370328729\n",
      "\n",
      "\n",
      "At random state 14,the training accuracy is: 0.4610312592594642\n",
      "At random state 14,the testing accuracy is: 0.4723133468399606\n",
      "\n",
      "\n",
      "At random state 15,the training accuracy is: 0.4626550513679982\n",
      "At random state 15,the testing accuracy is: 0.4653572431751758\n",
      "\n",
      "\n",
      "At random state 16,the training accuracy is: 0.4647193424053947\n",
      "At random state 16,the testing accuracy is: 0.45723936656829567\n",
      "\n",
      "\n",
      "At random state 17,the training accuracy is: 0.4647380500257343\n",
      "At random state 17,the testing accuracy is: 0.45659685164211594\n",
      "\n",
      "\n",
      "At random state 18,the training accuracy is: 0.4637787309514598\n",
      "At random state 18,the testing accuracy is: 0.4609340602645179\n",
      "\n",
      "\n",
      "At random state 19,the training accuracy is: 0.45981834539236643\n",
      "At random state 19,the testing accuracy is: 0.4771566034871295\n",
      "\n",
      "\n",
      "At random state 20,the training accuracy is: 0.46201049511753023\n",
      "At random state 20,the testing accuracy is: 0.4682539960185367\n",
      "\n",
      "\n",
      "At random state 21,the training accuracy is: 0.46463186560876324\n",
      "At random state 21,the testing accuracy is: 0.4573969491664257\n",
      "\n",
      "\n",
      "At random state 22,the training accuracy is: 0.46545442718440144\n",
      "At random state 22,the testing accuracy is: 0.4541610867225806\n",
      "\n",
      "\n",
      "At random state 23,the training accuracy is: 0.465067689776996\n",
      "At random state 23,the testing accuracy is: 0.45533445778040693\n",
      "\n",
      "\n",
      "At random state 24,the training accuracy is: 0.46072448304264835\n",
      "At random state 24,the testing accuracy is: 0.473748028197988\n",
      "\n",
      "\n",
      "At random state 25,the training accuracy is: 0.463271105242394\n",
      "At random state 25,the testing accuracy is: 0.46289683465292575\n",
      "\n",
      "\n",
      "At random state 26,the training accuracy is: 0.46492036989503616\n",
      "At random state 26,the testing accuracy is: 0.45664701005616304\n",
      "\n",
      "\n",
      "At random state 27,the training accuracy is: 0.4628841231018732\n",
      "At random state 27,the testing accuracy is: 0.46467269681738776\n",
      "\n",
      "\n",
      "At random state 28,the training accuracy is: 0.4591068396212272\n",
      "At random state 28,the testing accuracy is: 0.4802332543615947\n",
      "\n",
      "\n",
      "At random state 29,the training accuracy is: 0.4624567998747423\n",
      "At random state 29,the testing accuracy is: 0.4661194823528667\n",
      "\n",
      "\n",
      "At random state 30,the training accuracy is: 0.46558413593393455\n",
      "At random state 30,the testing accuracy is: 0.4535125509086323\n",
      "\n",
      "\n",
      "At random state 31,the training accuracy is: 0.4596063838638291\n",
      "At random state 31,the testing accuracy is: 0.4775905302468858\n",
      "\n",
      "\n",
      "At random state 32,the training accuracy is: 0.46398698231835966\n",
      "At random state 32,the testing accuracy is: 0.4603551840430308\n",
      "\n",
      "\n",
      "At random state 33,the training accuracy is: 0.46135731636957744\n",
      "At random state 33,the testing accuracy is: 0.47072740590139683\n",
      "\n",
      "\n",
      "At random state 34,the training accuracy is: 0.46374293931467736\n",
      "At random state 34,the testing accuracy is: 0.4606914465604852\n",
      "\n",
      "\n",
      "At random state 35,the training accuracy is: 0.4621530158274776\n",
      "At random state 35,the testing accuracy is: 0.4674203779964521\n",
      "\n",
      "\n",
      "At random state 36,the training accuracy is: 0.46753269977462064\n",
      "At random state 36,the testing accuracy is: 0.4451289344524598\n",
      "\n",
      "\n",
      "At random state 37,the training accuracy is: 0.46156714811054445\n",
      "At random state 37,the testing accuracy is: 0.4700882336209449\n",
      "\n",
      "\n",
      "At random state 38,the training accuracy is: 0.4636965953164617\n",
      "At random state 38,the testing accuracy is: 0.4612326443325071\n",
      "\n",
      "\n",
      "At random state 39,the training accuracy is: 0.46384413661288515\n",
      "At random state 39,the testing accuracy is: 0.4605621049756701\n",
      "\n",
      "\n",
      "At random state 40,the training accuracy is: 0.4647186499623551\n",
      "At random state 40,the testing accuracy is: 0.45738660350959814\n",
      "\n",
      "\n",
      "At random state 41,the training accuracy is: 0.46064526648008364\n",
      "At random state 41,the testing accuracy is: 0.47382775763802687\n",
      "\n",
      "\n",
      "At random state 42,the training accuracy is: 0.4612973220924771\n",
      "At random state 42,the testing accuracy is: 0.47073965988973265\n",
      "\n",
      "\n",
      "At random state 43,the training accuracy is: 0.4587304178511875\n",
      "At random state 43,the testing accuracy is: 0.48118014834267775\n",
      "\n",
      "\n",
      "At random state 44,the training accuracy is: 0.46763250162964265\n",
      "At random state 44,the testing accuracy is: 0.4453990233011961\n",
      "\n",
      "\n",
      "At random state 45,the training accuracy is: 0.46373633237227063\n",
      "At random state 45,the testing accuracy is: 0.46067573828431907\n",
      "\n",
      "\n",
      "At random state 46,the training accuracy is: 0.4609210454099776\n",
      "At random state 46,the testing accuracy is: 0.472221101326479\n",
      "\n",
      "\n",
      "At random state 47,the training accuracy is: 0.46281962331044213\n",
      "At random state 47,the testing accuracy is: 0.46505005177779923\n",
      "\n",
      "\n",
      "At random state 48,the training accuracy is: 0.46353710709078655\n",
      "At random state 48,the testing accuracy is: 0.46178220232313016\n",
      "\n",
      "\n",
      "At random state 49,the training accuracy is: 0.461792032997562\n",
      "At random state 49,the testing accuracy is: 0.4685675506125153\n",
      "\n",
      "\n",
      "At random state 50,the training accuracy is: 0.4657815986010476\n",
      "At random state 50,the testing accuracy is: 0.4528303951695173\n",
      "\n",
      "\n",
      "At random state 51,the training accuracy is: 0.4626622254020418\n",
      "At random state 51,the testing accuracy is: 0.46560669157516976\n",
      "\n",
      "\n",
      "At random state 52,the training accuracy is: 0.46273916785965274\n",
      "At random state 52,the testing accuracy is: 0.46482283495482546\n",
      "\n",
      "\n",
      "At random state 53,the training accuracy is: 0.4624078026182449\n",
      "At random state 53,the testing accuracy is: 0.4665655128817632\n",
      "\n",
      "\n",
      "At random state 54,the training accuracy is: 0.46965680780945096\n",
      "At random state 54,the testing accuracy is: 0.43734460526989194\n",
      "\n",
      "\n",
      "At random state 55,the training accuracy is: 0.4604236478833744\n",
      "At random state 55,the testing accuracy is: 0.47291046323477126\n",
      "\n",
      "\n",
      "At random state 56,the training accuracy is: 0.46451150932445473\n",
      "At random state 56,the testing accuracy is: 0.4575354738629319\n",
      "\n",
      "\n",
      "At random state 57,the training accuracy is: 0.46098932353452104\n",
      "At random state 57,the testing accuracy is: 0.4719542636527856\n",
      "\n",
      "\n",
      "At random state 58,the training accuracy is: 0.4627633208451314\n",
      "At random state 58,the testing accuracy is: 0.46497558964062247\n",
      "\n",
      "\n",
      "At random state 59,the training accuracy is: 0.46562223765623345\n",
      "At random state 59,the testing accuracy is: 0.45348831901505093\n",
      "\n",
      "\n",
      "At random state 60,the training accuracy is: 0.4572781235061678\n",
      "At random state 60,the testing accuracy is: 0.48590535627884135\n",
      "\n",
      "\n",
      "At random state 61,the training accuracy is: 0.46983574562061814\n",
      "At random state 61,the testing accuracy is: 0.4360204097561149\n",
      "\n",
      "\n",
      "At random state 62,the training accuracy is: 0.46748751251960385\n",
      "At random state 62,the testing accuracy is: 0.44594605523046216\n",
      "\n",
      "\n",
      "At random state 63,the training accuracy is: 0.46246201452255375\n",
      "At random state 63,the testing accuracy is: 0.46623255088679405\n",
      "\n",
      "\n",
      "At random state 64,the training accuracy is: 0.4633390400166686\n",
      "At random state 64,the testing accuracy is: 0.4627665023295383\n",
      "\n",
      "\n",
      "At random state 65,the training accuracy is: 0.4633139961136489\n",
      "At random state 65,the testing accuracy is: 0.4629383495816717\n",
      "\n",
      "\n",
      "At random state 66,the training accuracy is: 0.4659951794771203\n",
      "At random state 66,the testing accuracy is: 0.45126495639375874\n",
      "\n",
      "\n",
      "At random state 67,the training accuracy is: 0.4634095966098002\n",
      "At random state 67,the testing accuracy is: 0.4626455997014566\n",
      "\n",
      "\n",
      "At random state 68,the training accuracy is: 0.46164549423504697\n",
      "At random state 68,the testing accuracy is: 0.4692184443312335\n",
      "\n",
      "\n",
      "At random state 69,the training accuracy is: 0.46088134059609254\n",
      "At random state 69,the testing accuracy is: 0.47229569527132376\n",
      "\n",
      "\n",
      "At random state 70,the training accuracy is: 0.46142674844850395\n",
      "At random state 70,the testing accuracy is: 0.4698180867765237\n",
      "\n",
      "\n",
      "At random state 71,the training accuracy is: 0.46124110914726435\n",
      "At random state 71,the testing accuracy is: 0.47102935549254943\n",
      "\n",
      "\n",
      "At random state 72,the training accuracy is: 0.4631150758189787\n",
      "At random state 72,the testing accuracy is: 0.46315471054147817\n",
      "\n",
      "\n",
      "At random state 73,the training accuracy is: 0.4638009381422762\n",
      "At random state 73,the testing accuracy is: 0.4608840712030424\n",
      "\n",
      "\n",
      "At random state 74,the training accuracy is: 0.461485634566148\n",
      "At random state 74,the testing accuracy is: 0.47031686590773736\n",
      "\n",
      "\n",
      "At random state 75,the training accuracy is: 0.46333218749423166\n",
      "At random state 75,the testing accuracy is: 0.46301539568130656\n",
      "\n",
      "\n",
      "At random state 76,the training accuracy is: 0.4614516734322366\n",
      "At random state 76,the testing accuracy is: 0.47073155779370657\n",
      "\n",
      "\n",
      "At random state 77,the training accuracy is: 0.46303028410156555\n",
      "At random state 77,the testing accuracy is: 0.46403754468164915\n",
      "\n",
      "\n",
      "At random state 78,the training accuracy is: 0.46345518085123694\n",
      "At random state 78,the testing accuracy is: 0.4624759824492649\n",
      "\n",
      "\n",
      "At random state 79,the training accuracy is: 0.45943195324217\n",
      "At random state 79,the testing accuracy is: 0.47875358726697437\n",
      "\n",
      "\n",
      "At random state 80,the training accuracy is: 0.4636059472997074\n",
      "At random state 80,the testing accuracy is: 0.46165253671015427\n",
      "\n",
      "\n",
      "At random state 81,the training accuracy is: 0.463406563805586\n",
      "At random state 81,the testing accuracy is: 0.4627671989716786\n",
      "\n",
      "\n",
      "At random state 82,the training accuracy is: 0.460595183729655\n",
      "At random state 82,the testing accuracy is: 0.47381832408196856\n",
      "\n",
      "\n",
      "At random state 83,the training accuracy is: 0.4664446218890592\n",
      "At random state 83,the testing accuracy is: 0.44997108106062333\n",
      "\n",
      "\n",
      "At random state 84,the training accuracy is: 0.46451787888517193\n",
      "At random state 84,the testing accuracy is: 0.45781572574735674\n",
      "\n",
      "\n",
      "At random state 85,the training accuracy is: 0.4586524301647077\n",
      "At random state 85,the testing accuracy is: 0.4794639934760069\n",
      "\n",
      "\n",
      "At random state 86,the training accuracy is: 0.46200105843782435\n",
      "At random state 86,the testing accuracy is: 0.46807395601883917\n",
      "\n",
      "\n",
      "At random state 87,the training accuracy is: 0.46564451238922766\n",
      "At random state 87,the testing accuracy is: 0.4537342117875165\n",
      "\n",
      "\n",
      "At random state 88,the training accuracy is: 0.4646300283846345\n",
      "At random state 88,the testing accuracy is: 0.45758715524201854\n",
      "\n",
      "\n",
      "At random state 89,the training accuracy is: 0.46233652759833255\n",
      "At random state 89,the testing accuracy is: 0.46707066636947914\n",
      "\n",
      "\n",
      "At random state 90,the training accuracy is: 0.4685338977244863\n",
      "At random state 90,the testing accuracy is: 0.44154753583126827\n",
      "\n",
      "\n",
      "At random state 91,the training accuracy is: 0.46532228316508284\n",
      "At random state 91,the testing accuracy is: 0.45454615575157653\n",
      "\n",
      "\n",
      "At random state 92,the training accuracy is: 0.46530998223201203\n",
      "At random state 92,the testing accuracy is: 0.4542571715193996\n",
      "\n",
      "\n",
      "At random state 93,the training accuracy is: 0.46483244460380746\n",
      "At random state 93,the testing accuracy is: 0.4570846456452754\n",
      "\n",
      "\n",
      "At random state 94,the training accuracy is: 0.46520828140975445\n",
      "At random state 94,the testing accuracy is: 0.45515206699548394\n",
      "\n",
      "\n",
      "At random state 95,the training accuracy is: 0.46063298216387905\n",
      "At random state 95,the testing accuracy is: 0.47374907335852035\n",
      "\n",
      "\n",
      "At random state 96,the training accuracy is: 0.4614289868613358\n",
      "At random state 96,the testing accuracy is: 0.4704354868308791\n",
      "\n",
      "\n",
      "At random state 97,the training accuracy is: 0.4651013593481982\n",
      "At random state 97,the testing accuracy is: 0.4557354867972696\n",
      "\n",
      "\n",
      "At random state 98,the training accuracy is: 0.46615094219862474\n",
      "At random state 98,the testing accuracy is: 0.4512077467321989\n",
      "\n",
      "\n",
      "At random state 99,the training accuracy is: 0.4648488811071563\n",
      "At random state 99,the testing accuracy is: 0.4560260057526023\n",
      "\n",
      "\n"
     ]
    }
   ],
   "source": [
    "for i in range(0,100):\n",
    "    x_train,x_test,y_train,y_test=train_test_split(x,y,test_size=0.20,random_state=i)\n",
    "    lr=LinearRegression()\n",
    "    lr.fit(x_train,y_train)\n",
    "    pred_train=lr.predict(x_train)\n",
    "    pred_test=lr.predict(x_test)\n",
    "    print(f'At random state {i},the training accuracy is: {r2_score(y_train,pred_train)}')\n",
    "    print(f'At random state {i},the testing accuracy is: {r2_score(y_test,pred_test)}')\n",
    "    print('\\n')"
   ]
  },
  {
   "cell_type": "code",
   "execution_count": 98,
   "id": "003b2b82",
   "metadata": {},
   "outputs": [],
   "source": [
    "x_train,x_test,y_train,y_test=train_test_split(x,y,test_size=.20,random_state=54)"
   ]
  },
  {
   "cell_type": "markdown",
   "id": "4c74a14d",
   "metadata": {},
   "source": [
    "### SupportVectorRegression model"
   ]
  },
  {
   "cell_type": "code",
   "execution_count": 99,
   "id": "bfb52bca",
   "metadata": {},
   "outputs": [
    {
     "name": "stdout",
     "output_type": "stream",
     "text": [
      "0.466018850581166\n",
      "0.5883759867746001\n",
      "0.7623832243933277\n"
     ]
    }
   ],
   "source": [
    "from sklearn.svm import SVR\n",
    "kernellist=['linear','poly','rbf']\n",
    "for i in kernellist:\n",
    "    sv=SVR(kernel=i)\n",
    "    sv.fit(x_train,y_train)\n",
    "    print(sv.score(x_train,y_train))"
   ]
  },
  {
   "cell_type": "markdown",
   "id": "f4fbad7e",
   "metadata": {},
   "source": [
    "### Fitting the data to various model and checking the accuracy"
   ]
  },
  {
   "cell_type": "code",
   "execution_count": 100,
   "id": "63c74dd5",
   "metadata": {},
   "outputs": [
    {
     "data": {
      "text/html": [
       "<div>\n",
       "<style scoped>\n",
       "    .dataframe tbody tr th:only-of-type {\n",
       "        vertical-align: middle;\n",
       "    }\n",
       "\n",
       "    .dataframe tbody tr th {\n",
       "        vertical-align: top;\n",
       "    }\n",
       "\n",
       "    .dataframe thead th {\n",
       "        text-align: right;\n",
       "    }\n",
       "</style>\n",
       "<table border=\"1\" class=\"dataframe\">\n",
       "  <thead>\n",
       "    <tr style=\"text-align: right;\">\n",
       "      <th></th>\n",
       "      <th>Model</th>\n",
       "      <th>Training Score</th>\n",
       "      <th>Test Score</th>\n",
       "      <th>Mean Square Error</th>\n",
       "      <th>Cross Validation Score</th>\n",
       "    </tr>\n",
       "  </thead>\n",
       "  <tbody>\n",
       "    <tr>\n",
       "      <th>0</th>\n",
       "      <td>Linear Regression</td>\n",
       "      <td>0.469657</td>\n",
       "      <td>0.437345</td>\n",
       "      <td>0.083477</td>\n",
       "      <td>0.462497</td>\n",
       "    </tr>\n",
       "    <tr>\n",
       "      <th>1</th>\n",
       "      <td>SupportVector</td>\n",
       "      <td>0.762383</td>\n",
       "      <td>0.717730</td>\n",
       "      <td>0.041879</td>\n",
       "      <td>0.738445</td>\n",
       "    </tr>\n",
       "    <tr>\n",
       "      <th>2</th>\n",
       "      <td>DecisionTree</td>\n",
       "      <td>1.000000</td>\n",
       "      <td>0.726878</td>\n",
       "      <td>0.040521</td>\n",
       "      <td>0.731665</td>\n",
       "    </tr>\n",
       "    <tr>\n",
       "      <th>3</th>\n",
       "      <td>RandomForest</td>\n",
       "      <td>0.982450</td>\n",
       "      <td>0.870151</td>\n",
       "      <td>0.019265</td>\n",
       "      <td>0.875627</td>\n",
       "    </tr>\n",
       "    <tr>\n",
       "      <th>4</th>\n",
       "      <td>KNN</td>\n",
       "      <td>0.891615</td>\n",
       "      <td>0.810651</td>\n",
       "      <td>0.028093</td>\n",
       "      <td>0.819195</td>\n",
       "    </tr>\n",
       "    <tr>\n",
       "      <th>5</th>\n",
       "      <td>AdaBoost</td>\n",
       "      <td>0.503211</td>\n",
       "      <td>0.476079</td>\n",
       "      <td>0.077731</td>\n",
       "      <td>0.491222</td>\n",
       "    </tr>\n",
       "  </tbody>\n",
       "</table>\n",
       "</div>"
      ],
      "text/plain": [
       "               Model  Training Score  Test Score  Mean Square Error  \\\n",
       "0  Linear Regression        0.469657    0.437345           0.083477   \n",
       "1      SupportVector        0.762383    0.717730           0.041879   \n",
       "2       DecisionTree        1.000000    0.726878           0.040521   \n",
       "3       RandomForest        0.982450    0.870151           0.019265   \n",
       "4                KNN        0.891615    0.810651           0.028093   \n",
       "5           AdaBoost        0.503211    0.476079           0.077731   \n",
       "\n",
       "   Cross Validation Score  \n",
       "0                0.462497  \n",
       "1                0.738445  \n",
       "2                0.731665  \n",
       "3                0.875627  \n",
       "4                0.819195  \n",
       "5                0.491222  "
      ]
     },
     "execution_count": 100,
     "metadata": {},
     "output_type": "execute_result"
    }
   ],
   "source": [
    "sv=SVR(kernel='rbf')\n",
    "dt=DecisionTreeRegressor()\n",
    "rf=RandomForestRegressor()\n",
    "kn=KNeighborsRegressor()\n",
    "ab=AdaBoostRegressor()\n",
    "\n",
    "model=[lr,sv,dt,rf,kn,ab]\n",
    "kf = KFold(n_splits=5, random_state=54, shuffle=True)\n",
    "\n",
    "train=[]\n",
    "test=[]\n",
    "Mse=[]\n",
    "cv=[]\n",
    "\n",
    "for m in model:\n",
    "    m.fit(x_train,y_train)\n",
    "    pred_train=m.predict(x_train)\n",
    "    pred_test=m.predict(x_test)\n",
    "    train_score=r2_score(y_train,pred_train)\n",
    "    train.append(train_score)\n",
    "    test_score=r2_score(y_test,pred_test)\n",
    "    test.append(test_score)\n",
    "    mse = mean_squared_error(y_test,pred_test)\n",
    "    Mse.append(mse)\n",
    "    score=cross_val_score(m,x,y,cv=kf)\n",
    "    cv.append(score.mean())\n",
    "    \n",
    "Performance={'Model':['Linear Regression','SupportVector','DecisionTree','RandomForest','KNN','AdaBoost'],\n",
    "             'Training Score':train,\n",
    "            'Test Score':test,\n",
    "            'Mean Square Error':Mse,\n",
    "            'Cross Validation Score': cv}\n",
    "Performance=pd.DataFrame(data=Performance)\n",
    "Performance"
   ]
  },
  {
   "cell_type": "markdown",
   "id": "bdc0c869",
   "metadata": {},
   "source": [
    "We can say that Random Forest Regressor has performed well with test score of 87% and CV score of 87%. KNN has also performed well with 81% test accuracy and CV score of 81%"
   ]
  },
  {
   "cell_type": "markdown",
   "id": "cef54af6",
   "metadata": {},
   "source": [
    "We will select RandomForest as our model and Hypertune it to se if there is increase in any accuracy"
   ]
  },
  {
   "cell_type": "code",
   "execution_count": 102,
   "id": "3cdffde5",
   "metadata": {},
   "outputs": [],
   "source": [
    "from sklearn.model_selection import GridSearchCV\n",
    "parameters = {'max_depth': [10, 20, 30, 40, None],\n",
    "              'max_features': ['auto', 'sqrt'],\n",
    "              'min_samples_leaf': [1, 2, 4],\n",
    "              'min_samples_split': [2, 5, 10],\n",
    "              'n_estimators': [5, 10, 20, 30, 50]}"
   ]
  },
  {
   "cell_type": "code",
   "execution_count": 103,
   "id": "a9b8363a",
   "metadata": {},
   "outputs": [
    {
     "data": {
      "text/plain": [
       "{'max_depth': 40,\n",
       " 'max_features': 'auto',\n",
       " 'min_samples_leaf': 1,\n",
       " 'min_samples_split': 2,\n",
       " 'n_estimators': 50}"
      ]
     },
     "execution_count": 103,
     "metadata": {},
     "output_type": "execute_result"
    }
   ],
   "source": [
    "GCV=GridSearchCV(RandomForestRegressor(),parameters,cv=3)\n",
    "GCV.fit(x_train,y_train)\n",
    "GCV.best_params_"
   ]
  },
  {
   "cell_type": "markdown",
   "id": "55f0fbea",
   "metadata": {},
   "source": [
    "We got the best parameters for our Random Forest model. We will fit it to re train our model"
   ]
  },
  {
   "cell_type": "code",
   "execution_count": 104,
   "id": "e8b6b748",
   "metadata": {},
   "outputs": [
    {
     "name": "stdout",
     "output_type": "stream",
     "text": [
      "Accuracy Score of RandomForest is 86.3090399594869\n",
      "Mean Square Error is 0.07773071440380061\n",
      "Cross Vaidation Score is 86.58611824682218\n"
     ]
    }
   ],
   "source": [
    "Finalmod=RandomForestRegressor(max_features= 'sqrt', min_samples_leaf= 1, min_samples_split=2,n_estimators=50)\n",
    "Finalmod.fit(x_train,y_train)\n",
    "pred=Finalmod.predict(x_test)\n",
    "acc=r2_score(y_test,pred)\n",
    "MSE = mean_squared_error(y_test,pred_test)\n",
    "cvs_score=cross_val_score(Finalmod,x,y,cv=kf)\n",
    "\n",
    "print('Accuracy Score of RandomForest is',acc*100)\n",
    "print('Mean Square Error is',MSE)\n",
    "print('Cross Vaidation Score is', cvs_score.mean()*100)"
   ]
  },
  {
   "cell_type": "markdown",
   "id": "253b0e4e",
   "metadata": {},
   "source": [
    "### There is a slight incrase in the model performance with Accuracy score of 86% and CV score of 86%"
   ]
  },
  {
   "cell_type": "markdown",
   "id": "f85462b1",
   "metadata": {},
   "source": [
    "# Lets Visualize our model"
   ]
  },
  {
   "cell_type": "code",
   "execution_count": 105,
   "id": "840b1d96",
   "metadata": {},
   "outputs": [
    {
     "data": {
      "image/png": "[encoded data removed]",
      "text/plain": [
       "<Figure size 576x432 with 1 Axes>"
      ]
     },
     "metadata": {
      "needs_background": "light"
     },
     "output_type": "display_data"
    }
   ],
   "source": [
    "plt.figure(figsize=(8,6))\n",
    "plt.scatter(x=y_test,y=pred,color='r')\n",
    "plt.plot(y_test,y_test,color='b')\n",
    "plt.xlabel('Actual Wins',fontsize=14)\n",
    "plt.ylabel('Predicted Wins',fontsize=14)\n",
    "plt.title('RandomForest Regressor',fontsize=18)\n",
    "plt.show()"
   ]
  },
  {
   "cell_type": "markdown",
   "id": "987f7ff0",
   "metadata": {},
   "source": [
    "# Saving the Model"
   ]
  },
  {
   "cell_type": "code",
   "execution_count": 107,
   "id": "949fcb95",
   "metadata": {},
   "outputs": [
    {
     "data": {
      "text/plain": [
       "['Avacodo_Price_Predictions.obj']"
      ]
     },
     "execution_count": 107,
     "metadata": {},
     "output_type": "execute_result"
    }
   ],
   "source": [
    "import joblib\n",
    "joblib.dump(Finalmod,'Avacodo_Price_Predictions.obj')"
   ]
  },
  {
   "cell_type": "code",
   "execution_count": null,
   "id": "9140388c",
   "metadata": {},
   "outputs": [],
   "source": []
  }
 ],
 "metadata": {
  "kernelspec": {
   "display_name": "Python 3",
   "language": "python",
   "name": "python3"
  },
  "language_info": {
   "codemirror_mode": {
    "name": "ipython",
    "version": 3
   },
   "file_extension": ".py",
   "mimetype": "text/x-python",
   "name": "python",
   "nbconvert_exporter": "python",
   "pygments_lexer": "ipython3",
   "version": "3.8.8"
  }
 },
 "nbformat": 4,
 "nbformat_minor": 5
}
